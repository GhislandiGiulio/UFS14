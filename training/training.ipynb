{
 "cells": [
  {
   "cell_type": "markdown",
   "id": "0abe9323",
   "metadata": {},
   "source": [
    "# Training"
   ]
  },
  {
   "cell_type": "markdown",
   "id": "188f9dd0",
   "metadata": {},
   "source": [
    "### Importazione dell'immagine da ecr"
   ]
  },
  {
   "cell_type": "code",
   "execution_count": 10,
   "id": "d6a7faf6",
   "metadata": {},
   "outputs": [
    {
     "data": {
      "text/html": [
       "<pre style=\"white-space:pre;overflow-x:auto;line-height:normal;font-family:Menlo,'DejaVu Sans Mono',consolas,'Courier New',monospace\"><span style=\"color: #7fbfbf; text-decoration-color: #7fbfbf\">[11/22/24 13:16:13] </span><span style=\"color: #0069ff; text-decoration-color: #0069ff; font-weight: bold\">INFO    </span> Defaulting to only available Python version: py310                   <a href=\"file:///home/ec2-user/anaconda3/envs/python3/lib/python3.10/site-packages/sagemaker/image_uris.py\" target=\"_blank\"><span style=\"color: #7f7f7f; text-decoration-color: #7f7f7f\">image_uris.py</span></a><span style=\"color: #7f7f7f; text-decoration-color: #7f7f7f\">:</span><a href=\"file:///home/ec2-user/anaconda3/envs/python3/lib/python3.10/site-packages/sagemaker/image_uris.py#603\" target=\"_blank\"><span style=\"color: #7f7f7f; text-decoration-color: #7f7f7f\">603</span></a>\n",
       "</pre>\n"
      ],
      "text/plain": [
       "\u001b[2;36m[11/22/24 13:16:13]\u001b[0m\u001b[2;36m \u001b[0m\u001b[1;38;2;0;105;255mINFO    \u001b[0m Defaulting to only available Python version: py310                   \u001b]8;id=303136;file:///home/ec2-user/anaconda3/envs/python3/lib/python3.10/site-packages/sagemaker/image_uris.py\u001b\\\u001b[2mimage_uris.py\u001b[0m\u001b]8;;\u001b\\\u001b[2m:\u001b[0m\u001b]8;id=801847;file:///home/ec2-user/anaconda3/envs/python3/lib/python3.10/site-packages/sagemaker/image_uris.py#603\u001b\\\u001b[2m603\u001b[0m\u001b]8;;\u001b\\\n"
      ]
     },
     "metadata": {},
     "output_type": "display_data"
    },
    {
     "data": {
      "text/plain": [
       "'763104351884.dkr.ecr.us-east-1.amazonaws.com/tensorflow-training:2.12.0-cpu-py310'"
      ]
     },
     "execution_count": 10,
     "metadata": {},
     "output_type": "execute_result"
    }
   ],
   "source": [
    "import scipy.sparse\n",
    "from sagemaker import image_uris\n",
    "image_uris.retrieve(framework='tensorflow',region='us-east-1',version='2.12.0',image_scope='training',instance_type='ml.c5.4xlarge')"
   ]
  },
  {
   "cell_type": "code",
   "execution_count": 11,
   "id": "648039ee",
   "metadata": {},
   "outputs": [
    {
     "name": "stdout",
     "output_type": "stream",
     "text": [
      "WARNING! Your password will be stored unencrypted in /home/ec2-user/.docker/config.json.\n",
      "Configure a credential helper to remove this warning. See\n",
      "https://docs.docker.com/engine/reference/commandline/login/#credentials-store\n",
      "\n",
      "Login Succeeded\n"
     ]
    }
   ],
   "source": [
    "!aws ecr get-login-password --region us-east-1 | docker login --username AWS --password-stdin  763104351884.dkr.ecr.us-east-1.amazonaws.com"
   ]
  },
  {
   "cell_type": "markdown",
   "id": "827e948d",
   "metadata": {},
   "source": [
    "### Build dell'immagine"
   ]
  },
  {
   "cell_type": "markdown",
   "id": "1ce5f418",
   "metadata": {},
   "source": [
    "Attraverso Dockerfile.train a partire dalla immagine di ECR"
   ]
  },
  {
   "cell_type": "code",
   "execution_count": 25,
   "id": "1f1baf0f",
   "metadata": {},
   "outputs": [
    {
     "name": "stdout",
     "output_type": "stream",
     "text": [
      "\u001b[1A\u001b[1B\u001b[0G\u001b[?25l[+] Building 0.0s (0/1)                                          docker:default\n",
      "\u001b[?25h\u001b[1A\u001b[0G\u001b[?25l[+] Building 0.1s (3/3)                                          docker:default\n",
      "\u001b[34m => [internal] load build definition from Dockerfile.train                 0.0s\n",
      "\u001b[0m\u001b[34m => => transferring dockerfile: 335B                                       0.0s\n",
      "\u001b[0m\u001b[34m => [internal] load metadata for 763104351884.dkr.ecr.us-east-1.amazonaws  0.1s\n",
      "\u001b[0m\u001b[34m => [auth] sharing credentials for 763104351884.dkr.ecr.us-east-1.amazona  0.0s\n",
      "\u001b[0m\u001b[?25h\u001b[1A\u001b[1A\u001b[1A\u001b[1A\u001b[1A\u001b[0G\u001b[?25l[+] Building 0.2s (10/11)                                        docker:default\n",
      "\u001b[34m => [internal] load build definition from Dockerfile.train                 0.0s\n",
      "\u001b[0m\u001b[34m => => transferring dockerfile: 335B                                       0.0s\n",
      "\u001b[0m\u001b[34m => [internal] load metadata for 763104351884.dkr.ecr.us-east-1.amazonaws  0.1s\n",
      "\u001b[0m\u001b[34m => [auth] sharing credentials for 763104351884.dkr.ecr.us-east-1.amazona  0.0s\n",
      "\u001b[0m\u001b[34m => [internal] load .dockerignore                                          0.0s\n",
      "\u001b[0m\u001b[34m => => transferring context: 2B                                            0.0s\n",
      "\u001b[0m\u001b[34m => [1/5] FROM 763104351884.dkr.ecr.us-east-1.amazonaws.com/tensorflow-tr  0.0s\n",
      "\u001b[0m\u001b[34m => [internal] load build context                                          0.0s\n",
      "\u001b[0m\u001b[34m => => transferring context: 3.25kB                                        0.0s\n",
      "\u001b[0m\u001b[34m => CACHED [2/5] ADD ./requirements.txt /opt/ml/code/requirements.txt      0.0s\n",
      "\u001b[0m\u001b[34m => CACHED [3/5] RUN pip install -r /opt/ml/code/requirements.txt          0.0s\n",
      "\u001b[0m\u001b[34m => CACHED [4/5] RUN pip install joblib                                    0.0s\n",
      "\u001b[0m\u001b[34m => [5/5] ADD ./training.py /opt/ml/code/training.py                       0.0s\n",
      "\u001b[0m => exporting to image                                                     0.0s\n",
      "\u001b[34m => => exporting layers                                                    0.0s\n",
      "\u001b[0m\u001b[?25h\u001b[1A\u001b[1A\u001b[1A\u001b[1A\u001b[1A\u001b[1A\u001b[1A\u001b[1A\u001b[1A\u001b[1A\u001b[1A\u001b[1A\u001b[1A\u001b[1A\u001b[1A\u001b[1A\u001b[0G\u001b[?25l[+] Building 0.3s (11/11) FINISHED                               docker:default\n",
      "\u001b[34m => [internal] load build definition from Dockerfile.train                 0.0s\n",
      "\u001b[0m\u001b[34m => => transferring dockerfile: 335B                                       0.0s\n",
      "\u001b[0m\u001b[34m => [internal] load metadata for 763104351884.dkr.ecr.us-east-1.amazonaws  0.1s\n",
      "\u001b[0m\u001b[34m => [auth] sharing credentials for 763104351884.dkr.ecr.us-east-1.amazona  0.0s\n",
      "\u001b[0m\u001b[34m => [internal] load .dockerignore                                          0.0s\n",
      "\u001b[0m\u001b[34m => => transferring context: 2B                                            0.0s\n",
      "\u001b[0m\u001b[34m => [1/5] FROM 763104351884.dkr.ecr.us-east-1.amazonaws.com/tensorflow-tr  0.0s\n",
      "\u001b[0m\u001b[34m => [internal] load build context                                          0.0s\n",
      "\u001b[0m\u001b[34m => => transferring context: 3.25kB                                        0.0s\n",
      "\u001b[0m\u001b[34m => CACHED [2/5] ADD ./requirements.txt /opt/ml/code/requirements.txt      0.0s\n",
      "\u001b[0m\u001b[34m => CACHED [3/5] RUN pip install -r /opt/ml/code/requirements.txt          0.0s\n",
      "\u001b[0m\u001b[34m => CACHED [4/5] RUN pip install joblib                                    0.0s\n",
      "\u001b[0m\u001b[34m => [5/5] ADD ./training.py /opt/ml/code/training.py                       0.0s\n",
      "\u001b[0m\u001b[34m => exporting to image                                                     0.0s\n",
      "\u001b[0m\u001b[34m => => exporting layers                                                    0.0s\n",
      "\u001b[0m\u001b[34m => => writing image sha256:224490f9763c78fe711770999e180773781e6fd45382b  0.0s\n",
      "\u001b[0m\u001b[34m => => naming to docker.io/library/training-housing-container              0.0s\n",
      "\u001b[0m\u001b[?25h"
     ]
    }
   ],
   "source": [
    "!docker build -t training-housing-container -f Dockerfile.train ."
   ]
  },
  {
   "cell_type": "code",
   "execution_count": 26,
   "id": "381ae7fd",
   "metadata": {},
   "outputs": [
    {
     "name": "stdout",
     "output_type": "stream",
     "text": [
      "REPOSITORY                   TAG       IMAGE ID       CREATED          SIZE\n",
      "training-housing-container   latest    224490f9763c   3 seconds ago    14.3GB\n",
      "<none>                       <none>    b65c04ae7e13   12 minutes ago   14.3GB\n"
     ]
    }
   ],
   "source": [
    "!docker images"
   ]
  },
  {
   "cell_type": "markdown",
   "id": "dfb4906e",
   "metadata": {},
   "source": [
    "## Training in locale"
   ]
  },
  {
   "cell_type": "code",
   "execution_count": 27,
   "id": "93e4ea49",
   "metadata": {},
   "outputs": [
    {
     "data": {
      "text/html": [
       "<pre style=\"white-space:pre;overflow-x:auto;line-height:normal;font-family:Menlo,'DejaVu Sans Mono',consolas,'Courier New',monospace\"><span style=\"color: #7fbfbf; text-decoration-color: #7fbfbf\">[11/22/24 13:27:18] </span><span style=\"color: #0069ff; text-decoration-color: #0069ff; font-weight: bold\">INFO    </span> Found credentials from IAM Role:                                   <a href=\"file:///home/ec2-user/anaconda3/envs/python3/lib/python3.10/site-packages/botocore/credentials.py\" target=\"_blank\"><span style=\"color: #7f7f7f; text-decoration-color: #7f7f7f\">credentials.py</span></a><span style=\"color: #7f7f7f; text-decoration-color: #7f7f7f\">:</span><a href=\"file:///home/ec2-user/anaconda3/envs/python3/lib/python3.10/site-packages/botocore/credentials.py#1075\" target=\"_blank\"><span style=\"color: #7f7f7f; text-decoration-color: #7f7f7f\">1075</span></a>\n",
       "<span style=\"color: #7fbfbf; text-decoration-color: #7fbfbf\">                    </span>         BaseNotebookInstanceEc2InstanceRole                                <span style=\"color: #7f7f7f; text-decoration-color: #7f7f7f\">                   </span>\n",
       "</pre>\n"
      ],
      "text/plain": [
       "\u001b[2;36m[11/22/24 13:27:18]\u001b[0m\u001b[2;36m \u001b[0m\u001b[1;38;2;0;105;255mINFO    \u001b[0m Found credentials from IAM Role:                                   \u001b]8;id=600352;file:///home/ec2-user/anaconda3/envs/python3/lib/python3.10/site-packages/botocore/credentials.py\u001b\\\u001b[2mcredentials.py\u001b[0m\u001b]8;;\u001b\\\u001b[2m:\u001b[0m\u001b]8;id=555574;file:///home/ec2-user/anaconda3/envs/python3/lib/python3.10/site-packages/botocore/credentials.py#1075\u001b\\\u001b[2m1075\u001b[0m\u001b]8;;\u001b\\\n",
       "\u001b[2;36m                    \u001b[0m         BaseNotebookInstanceEc2InstanceRole                                \u001b[2m                   \u001b[0m\n"
      ]
     },
     "metadata": {},
     "output_type": "display_data"
    },
    {
     "name": "stdout",
     "output_type": "stream",
     "text": [
      "##### ESTIMATOR FIT STARTED\n",
      "/home/ec2-user/SageMaker/UFS14/training\n"
     ]
    },
    {
     "data": {
      "text/html": [
       "<pre style=\"white-space:pre;overflow-x:auto;line-height:normal;font-family:Menlo,'DejaVu Sans Mono',consolas,'Courier New',monospace\"><span style=\"color: #7fbfbf; text-decoration-color: #7fbfbf\">                    </span><span style=\"color: #0069ff; text-decoration-color: #0069ff; font-weight: bold\">INFO    </span> Creating training-job with name:                                       <a href=\"file:///home/ec2-user/anaconda3/envs/python3/lib/python3.10/site-packages/sagemaker/session.py\" target=\"_blank\"><span style=\"color: #7f7f7f; text-decoration-color: #7f7f7f\">session.py</span></a><span style=\"color: #7f7f7f; text-decoration-color: #7f7f7f\">:</span><a href=\"file:///home/ec2-user/anaconda3/envs/python3/lib/python3.10/site-packages/sagemaker/session.py#1042\" target=\"_blank\"><span style=\"color: #7f7f7f; text-decoration-color: #7f7f7f\">1042</span></a>\n",
       "<span style=\"color: #7fbfbf; text-decoration-color: #7fbfbf\">                    </span>         training-housing-container-<span style=\"color: #008080; text-decoration-color: #008080; font-weight: bold\">2024</span>-11-22-13-27-18-674                     <span style=\"color: #7f7f7f; text-decoration-color: #7f7f7f\">               </span>\n",
       "</pre>\n"
      ],
      "text/plain": [
       "\u001b[2;36m                   \u001b[0m\u001b[2;36m \u001b[0m\u001b[1;38;2;0;105;255mINFO    \u001b[0m Creating training-job with name:                                       \u001b]8;id=747102;file:///home/ec2-user/anaconda3/envs/python3/lib/python3.10/site-packages/sagemaker/session.py\u001b\\\u001b[2msession.py\u001b[0m\u001b]8;;\u001b\\\u001b[2m:\u001b[0m\u001b]8;id=249565;file:///home/ec2-user/anaconda3/envs/python3/lib/python3.10/site-packages/sagemaker/session.py#1042\u001b\\\u001b[2m1042\u001b[0m\u001b]8;;\u001b\\\n",
       "\u001b[2;36m                    \u001b[0m         training-housing-container-\u001b[1;36m2024\u001b[0m-11-22-13-27-18-674                     \u001b[2m               \u001b[0m\n"
      ]
     },
     "metadata": {},
     "output_type": "display_data"
    },
    {
     "data": {
      "text/html": [
       "<pre style=\"white-space:pre;overflow-x:auto;line-height:normal;font-family:Menlo,'DejaVu Sans Mono',consolas,'Courier New',monospace\"><span style=\"color: #7fbfbf; text-decoration-color: #7fbfbf\">                    </span><span style=\"color: #0069ff; text-decoration-color: #0069ff; font-weight: bold\">INFO    </span> SageMaker Python SDK will collect telemetry to help us better  <a href=\"file:///home/ec2-user/anaconda3/envs/python3/lib/python3.10/site-packages/sagemaker/telemetry/telemetry_logging.py\" target=\"_blank\"><span style=\"color: #7f7f7f; text-decoration-color: #7f7f7f\">telemetry_logging.py</span></a><span style=\"color: #7f7f7f; text-decoration-color: #7f7f7f\">:</span><a href=\"file:///home/ec2-user/anaconda3/envs/python3/lib/python3.10/site-packages/sagemaker/telemetry/telemetry_logging.py#81\" target=\"_blank\"><span style=\"color: #7f7f7f; text-decoration-color: #7f7f7f\">81</span></a>\n",
       "<span style=\"color: #7fbfbf; text-decoration-color: #7fbfbf\">                    </span>         understand our user's needs, diagnose issues, and deliver      <span style=\"color: #7f7f7f; text-decoration-color: #7f7f7f\">                       </span>\n",
       "<span style=\"color: #7fbfbf; text-decoration-color: #7fbfbf\">                    </span>         additional features.                                           <span style=\"color: #7f7f7f; text-decoration-color: #7f7f7f\">                       </span>\n",
       "<span style=\"color: #7fbfbf; text-decoration-color: #7fbfbf\">                    </span>         To opt out of telemetry, please disable via TelemetryOptOut    <span style=\"color: #7f7f7f; text-decoration-color: #7f7f7f\">                       </span>\n",
       "<span style=\"color: #7fbfbf; text-decoration-color: #7fbfbf\">                    </span>         parameter in SDK defaults config. For more information, refer  <span style=\"color: #7f7f7f; text-decoration-color: #7f7f7f\">                       </span>\n",
       "<span style=\"color: #7fbfbf; text-decoration-color: #7fbfbf\">                    </span>         to                                                             <span style=\"color: #7f7f7f; text-decoration-color: #7f7f7f\">                       </span>\n",
       "<span style=\"color: #7fbfbf; text-decoration-color: #7fbfbf\">                    </span>         <span style=\"color: #0069ff; text-decoration-color: #0069ff; text-decoration: underline\">https://sagemaker.readthedocs.io/en/stable/overview.html#confi</span> <span style=\"color: #7f7f7f; text-decoration-color: #7f7f7f\">                       </span>\n",
       "<span style=\"color: #7fbfbf; text-decoration-color: #7fbfbf\">                    </span>         <span style=\"color: #0069ff; text-decoration-color: #0069ff; text-decoration: underline\">guring-and-using-defaults-with-the-sagemaker-python-sdk.</span>       <span style=\"color: #7f7f7f; text-decoration-color: #7f7f7f\">                       </span>\n",
       "</pre>\n"
      ],
      "text/plain": [
       "\u001b[2;36m                   \u001b[0m\u001b[2;36m \u001b[0m\u001b[1;38;2;0;105;255mINFO    \u001b[0m SageMaker Python SDK will collect telemetry to help us better  \u001b]8;id=818322;file:///home/ec2-user/anaconda3/envs/python3/lib/python3.10/site-packages/sagemaker/telemetry/telemetry_logging.py\u001b\\\u001b[2mtelemetry_logging.py\u001b[0m\u001b]8;;\u001b\\\u001b[2m:\u001b[0m\u001b]8;id=724209;file:///home/ec2-user/anaconda3/envs/python3/lib/python3.10/site-packages/sagemaker/telemetry/telemetry_logging.py#81\u001b\\\u001b[2m81\u001b[0m\u001b]8;;\u001b\\\n",
       "\u001b[2;36m                    \u001b[0m         understand our user's needs, diagnose issues, and deliver      \u001b[2m                       \u001b[0m\n",
       "\u001b[2;36m                    \u001b[0m         additional features.                                           \u001b[2m                       \u001b[0m\n",
       "\u001b[2;36m                    \u001b[0m         To opt out of telemetry, please disable via TelemetryOptOut    \u001b[2m                       \u001b[0m\n",
       "\u001b[2;36m                    \u001b[0m         parameter in SDK defaults config. For more information, refer  \u001b[2m                       \u001b[0m\n",
       "\u001b[2;36m                    \u001b[0m         to                                                             \u001b[2m                       \u001b[0m\n",
       "\u001b[2;36m                    \u001b[0m         \u001b[4;38;2;0;105;255mhttps://sagemaker.readthedocs.io/en/stable/overview.html#confi\u001b[0m \u001b[2m                       \u001b[0m\n",
       "\u001b[2;36m                    \u001b[0m         \u001b[4;38;2;0;105;255mguring-and-using-defaults-with-the-sagemaker-python-sdk.\u001b[0m       \u001b[2m                       \u001b[0m\n"
      ]
     },
     "metadata": {},
     "output_type": "display_data"
    },
    {
     "data": {
      "text/html": [
       "<pre style=\"white-space:pre;overflow-x:auto;line-height:normal;font-family:Menlo,'DejaVu Sans Mono',consolas,'Courier New',monospace\"><span style=\"color: #7fbfbf; text-decoration-color: #7fbfbf\">                    </span><span style=\"color: #0069ff; text-decoration-color: #0069ff; font-weight: bold\">INFO    </span> <span style=\"color: #008700; text-decoration-color: #008700\">'Docker Compose'</span> is not installed. Proceeding to check for                <a href=\"file:///home/ec2-user/anaconda3/envs/python3/lib/python3.10/site-packages/sagemaker/local/image.py\" target=\"_blank\"><span style=\"color: #7f7f7f; text-decoration-color: #7f7f7f\">image.py</span></a><span style=\"color: #7f7f7f; text-decoration-color: #7f7f7f\">:</span><a href=\"file:///home/ec2-user/anaconda3/envs/python3/lib/python3.10/site-packages/sagemaker/local/image.py#162\" target=\"_blank\"><span style=\"color: #7f7f7f; text-decoration-color: #7f7f7f\">162</span></a>\n",
       "<span style=\"color: #7fbfbf; text-decoration-color: #7fbfbf\">                    </span>         <span style=\"color: #008700; text-decoration-color: #008700\">'docker-compose'</span> CLI.                                                     <span style=\"color: #7f7f7f; text-decoration-color: #7f7f7f\">            </span>\n",
       "</pre>\n"
      ],
      "text/plain": [
       "\u001b[2;36m                   \u001b[0m\u001b[2;36m \u001b[0m\u001b[1;38;2;0;105;255mINFO    \u001b[0m \u001b[38;2;0;135;0m'Docker Compose'\u001b[0m is not installed. Proceeding to check for                \u001b]8;id=15811;file:///home/ec2-user/anaconda3/envs/python3/lib/python3.10/site-packages/sagemaker/local/image.py\u001b\\\u001b[2mimage.py\u001b[0m\u001b]8;;\u001b\\\u001b[2m:\u001b[0m\u001b]8;id=433196;file:///home/ec2-user/anaconda3/envs/python3/lib/python3.10/site-packages/sagemaker/local/image.py#162\u001b\\\u001b[2m162\u001b[0m\u001b]8;;\u001b\\\n",
       "\u001b[2;36m                    \u001b[0m         \u001b[38;2;0;135;0m'docker-compose'\u001b[0m CLI.                                                     \u001b[2m            \u001b[0m\n"
      ]
     },
     "metadata": {},
     "output_type": "display_data"
    },
    {
     "data": {
      "text/html": [
       "<pre style=\"white-space:pre;overflow-x:auto;line-height:normal;font-family:Menlo,'DejaVu Sans Mono',consolas,'Courier New',monospace\"><span style=\"color: #7fbfbf; text-decoration-color: #7fbfbf\">                    </span><span style=\"color: #0069ff; text-decoration-color: #0069ff; font-weight: bold\">INFO    </span> <span style=\"color: #008700; text-decoration-color: #008700\">'Docker Compose'</span> found using Docker Compose CLI.                          <a href=\"file:///home/ec2-user/anaconda3/envs/python3/lib/python3.10/site-packages/sagemaker/local/image.py\" target=\"_blank\"><span style=\"color: #7f7f7f; text-decoration-color: #7f7f7f\">image.py</span></a><span style=\"color: #7f7f7f; text-decoration-color: #7f7f7f\">:</span><a href=\"file:///home/ec2-user/anaconda3/envs/python3/lib/python3.10/site-packages/sagemaker/local/image.py#173\" target=\"_blank\"><span style=\"color: #7f7f7f; text-decoration-color: #7f7f7f\">173</span></a>\n",
       "</pre>\n"
      ],
      "text/plain": [
       "\u001b[2;36m                   \u001b[0m\u001b[2;36m \u001b[0m\u001b[1;38;2;0;105;255mINFO    \u001b[0m \u001b[38;2;0;135;0m'Docker Compose'\u001b[0m found using Docker Compose CLI.                          \u001b]8;id=388480;file:///home/ec2-user/anaconda3/envs/python3/lib/python3.10/site-packages/sagemaker/local/image.py\u001b\\\u001b[2mimage.py\u001b[0m\u001b]8;;\u001b\\\u001b[2m:\u001b[0m\u001b]8;id=769809;file:///home/ec2-user/anaconda3/envs/python3/lib/python3.10/site-packages/sagemaker/local/image.py#173\u001b\\\u001b[2m173\u001b[0m\u001b]8;;\u001b\\\n"
      ]
     },
     "metadata": {},
     "output_type": "display_data"
    },
    {
     "data": {
      "text/html": [
       "<pre style=\"white-space:pre;overflow-x:auto;line-height:normal;font-family:Menlo,'DejaVu Sans Mono',consolas,'Courier New',monospace\"><span style=\"color: #7fbfbf; text-decoration-color: #7fbfbf\">                    </span><span style=\"color: #0069ff; text-decoration-color: #0069ff; font-weight: bold\">INFO    </span> Starting training job                                             <a href=\"file:///home/ec2-user/anaconda3/envs/python3/lib/python3.10/site-packages/sagemaker/local/local_session.py\" target=\"_blank\"><span style=\"color: #7f7f7f; text-decoration-color: #7f7f7f\">local_session.py</span></a><span style=\"color: #7f7f7f; text-decoration-color: #7f7f7f\">:</span><a href=\"file:///home/ec2-user/anaconda3/envs/python3/lib/python3.10/site-packages/sagemaker/local/local_session.py#215\" target=\"_blank\"><span style=\"color: #7f7f7f; text-decoration-color: #7f7f7f\">215</span></a>\n",
       "</pre>\n"
      ],
      "text/plain": [
       "\u001b[2;36m                   \u001b[0m\u001b[2;36m \u001b[0m\u001b[1;38;2;0;105;255mINFO    \u001b[0m Starting training job                                             \u001b]8;id=686673;file:///home/ec2-user/anaconda3/envs/python3/lib/python3.10/site-packages/sagemaker/local/local_session.py\u001b\\\u001b[2mlocal_session.py\u001b[0m\u001b]8;;\u001b\\\u001b[2m:\u001b[0m\u001b]8;id=432932;file:///home/ec2-user/anaconda3/envs/python3/lib/python3.10/site-packages/sagemaker/local/local_session.py#215\u001b\\\u001b[2m215\u001b[0m\u001b]8;;\u001b\\\n"
      ]
     },
     "metadata": {},
     "output_type": "display_data"
    },
    {
     "data": {
      "text/html": [
       "<pre style=\"white-space:pre;overflow-x:auto;line-height:normal;font-family:Menlo,'DejaVu Sans Mono',consolas,'Courier New',monospace\"><span style=\"color: #7fbfbf; text-decoration-color: #7fbfbf\">                    </span><span style=\"color: #0069ff; text-decoration-color: #0069ff; font-weight: bold\">INFO    </span> Found credentials from IAM Role:                                   <a href=\"file:///home/ec2-user/anaconda3/envs/python3/lib/python3.10/site-packages/botocore/credentials.py\" target=\"_blank\"><span style=\"color: #7f7f7f; text-decoration-color: #7f7f7f\">credentials.py</span></a><span style=\"color: #7f7f7f; text-decoration-color: #7f7f7f\">:</span><a href=\"file:///home/ec2-user/anaconda3/envs/python3/lib/python3.10/site-packages/botocore/credentials.py#1075\" target=\"_blank\"><span style=\"color: #7f7f7f; text-decoration-color: #7f7f7f\">1075</span></a>\n",
       "<span style=\"color: #7fbfbf; text-decoration-color: #7fbfbf\">                    </span>         BaseNotebookInstanceEc2InstanceRole                                <span style=\"color: #7f7f7f; text-decoration-color: #7f7f7f\">                   </span>\n",
       "</pre>\n"
      ],
      "text/plain": [
       "\u001b[2;36m                   \u001b[0m\u001b[2;36m \u001b[0m\u001b[1;38;2;0;105;255mINFO    \u001b[0m Found credentials from IAM Role:                                   \u001b]8;id=605346;file:///home/ec2-user/anaconda3/envs/python3/lib/python3.10/site-packages/botocore/credentials.py\u001b\\\u001b[2mcredentials.py\u001b[0m\u001b]8;;\u001b\\\u001b[2m:\u001b[0m\u001b]8;id=804191;file:///home/ec2-user/anaconda3/envs/python3/lib/python3.10/site-packages/botocore/credentials.py#1075\u001b\\\u001b[2m1075\u001b[0m\u001b]8;;\u001b\\\n",
       "\u001b[2;36m                    \u001b[0m         BaseNotebookInstanceEc2InstanceRole                                \u001b[2m                   \u001b[0m\n"
      ]
     },
     "metadata": {},
     "output_type": "display_data"
    },
    {
     "data": {
      "text/html": [
       "<pre style=\"white-space:pre;overflow-x:auto;line-height:normal;font-family:Menlo,'DejaVu Sans Mono',consolas,'Courier New',monospace\"><span style=\"color: #7fbfbf; text-decoration-color: #7fbfbf\">                    </span><span style=\"color: #0069ff; text-decoration-color: #0069ff; font-weight: bold\">INFO    </span> No AWS credentials found in session but credentials from EC2 Metadata    <a href=\"file:///home/ec2-user/anaconda3/envs/python3/lib/python3.10/site-packages/sagemaker/local/image.py\" target=\"_blank\"><span style=\"color: #7f7f7f; text-decoration-color: #7f7f7f\">image.py</span></a><span style=\"color: #7f7f7f; text-decoration-color: #7f7f7f\">:</span><a href=\"file:///home/ec2-user/anaconda3/envs/python3/lib/python3.10/site-packages/sagemaker/local/image.py#1131\" target=\"_blank\"><span style=\"color: #7f7f7f; text-decoration-color: #7f7f7f\">1131</span></a>\n",
       "<span style=\"color: #7fbfbf; text-decoration-color: #7fbfbf\">                    </span>         Service are available.                                                   <span style=\"color: #7f7f7f; text-decoration-color: #7f7f7f\">             </span>\n",
       "</pre>\n"
      ],
      "text/plain": [
       "\u001b[2;36m                   \u001b[0m\u001b[2;36m \u001b[0m\u001b[1;38;2;0;105;255mINFO    \u001b[0m No AWS credentials found in session but credentials from EC2 Metadata    \u001b]8;id=130124;file:///home/ec2-user/anaconda3/envs/python3/lib/python3.10/site-packages/sagemaker/local/image.py\u001b\\\u001b[2mimage.py\u001b[0m\u001b]8;;\u001b\\\u001b[2m:\u001b[0m\u001b]8;id=133524;file:///home/ec2-user/anaconda3/envs/python3/lib/python3.10/site-packages/sagemaker/local/image.py#1131\u001b\\\u001b[2m1131\u001b[0m\u001b]8;;\u001b\\\n",
       "\u001b[2;36m                    \u001b[0m         Service are available.                                                   \u001b[2m             \u001b[0m\n"
      ]
     },
     "metadata": {},
     "output_type": "display_data"
    },
    {
     "data": {
      "text/html": [
       "<pre style=\"white-space:pre;overflow-x:auto;line-height:normal;font-family:Menlo,'DejaVu Sans Mono',consolas,'Courier New',monospace\"><span style=\"color: #7fbfbf; text-decoration-color: #7fbfbf\">                    </span><span style=\"color: #0069ff; text-decoration-color: #0069ff; font-weight: bold\">INFO    </span> docker compose file:                                                      <a href=\"file:///home/ec2-user/anaconda3/envs/python3/lib/python3.10/site-packages/sagemaker/local/image.py\" target=\"_blank\"><span style=\"color: #7f7f7f; text-decoration-color: #7f7f7f\">image.py</span></a><span style=\"color: #7f7f7f; text-decoration-color: #7f7f7f\">:</span><a href=\"file:///home/ec2-user/anaconda3/envs/python3/lib/python3.10/site-packages/sagemaker/local/image.py#771\" target=\"_blank\"><span style=\"color: #7f7f7f; text-decoration-color: #7f7f7f\">771</span></a>\n",
       "<span style=\"color: #7fbfbf; text-decoration-color: #7fbfbf\">                    </span>         networks:                                                                 <span style=\"color: #7f7f7f; text-decoration-color: #7f7f7f\">            </span>\n",
       "<span style=\"color: #7fbfbf; text-decoration-color: #7fbfbf\">                    </span>           sagemaker-local:                                                        <span style=\"color: #7f7f7f; text-decoration-color: #7f7f7f\">            </span>\n",
       "<span style=\"color: #7fbfbf; text-decoration-color: #7fbfbf\">                    </span>             name: sagemaker-local                                                 <span style=\"color: #7f7f7f; text-decoration-color: #7f7f7f\">            </span>\n",
       "<span style=\"color: #7fbfbf; text-decoration-color: #7fbfbf\">                    </span>         services:                                                                 <span style=\"color: #7f7f7f; text-decoration-color: #7f7f7f\">            </span>\n",
       "<span style=\"color: #7fbfbf; text-decoration-color: #7fbfbf\">                    </span>           algo-<span style=\"color: #008080; text-decoration-color: #008080; font-weight: bold\">1</span>-f1mir:                                                           <span style=\"color: #7f7f7f; text-decoration-color: #7f7f7f\">            </span>\n",
       "<span style=\"color: #7fbfbf; text-decoration-color: #7fbfbf\">                    </span>             command: train                                                        <span style=\"color: #7f7f7f; text-decoration-color: #7f7f7f\">            </span>\n",
       "<span style=\"color: #7fbfbf; text-decoration-color: #7fbfbf\">                    </span>             container_name: usr7gvpjm2-algo-<span style=\"color: #008080; text-decoration-color: #008080; font-weight: bold\">1</span>-f1mir                               <span style=\"color: #7f7f7f; text-decoration-color: #7f7f7f\">            </span>\n",
       "<span style=\"color: #7fbfbf; text-decoration-color: #7fbfbf\">                    </span>             environment:                                                          <span style=\"color: #7f7f7f; text-decoration-color: #7f7f7f\">            </span>\n",
       "<span style=\"color: #7fbfbf; text-decoration-color: #7fbfbf\">                    </span>             - <span style=\"color: #008700; text-decoration-color: #008700\">'</span><span style=\"color: #008700; text-decoration-color: #008700; font-weight: bold\">[</span><span style=\"color: #008700; text-decoration-color: #008700\">Masked</span><span style=\"color: #008700; text-decoration-color: #008700; font-weight: bold\">]</span><span style=\"color: #008700; text-decoration-color: #008700\">'</span>                                                          <span style=\"color: #7f7f7f; text-decoration-color: #7f7f7f\">            </span>\n",
       "<span style=\"color: #7fbfbf; text-decoration-color: #7fbfbf\">                    </span>             - <span style=\"color: #008700; text-decoration-color: #008700\">'</span><span style=\"color: #008700; text-decoration-color: #008700; font-weight: bold\">[</span><span style=\"color: #008700; text-decoration-color: #008700\">Masked</span><span style=\"color: #008700; text-decoration-color: #008700; font-weight: bold\">]</span><span style=\"color: #008700; text-decoration-color: #008700\">'</span>                                                          <span style=\"color: #7f7f7f; text-decoration-color: #7f7f7f\">            </span>\n",
       "<span style=\"color: #7fbfbf; text-decoration-color: #7fbfbf\">                    </span>             - <span style=\"color: #008700; text-decoration-color: #008700\">'</span><span style=\"color: #008700; text-decoration-color: #008700; font-weight: bold\">[</span><span style=\"color: #008700; text-decoration-color: #008700\">Masked</span><span style=\"color: #008700; text-decoration-color: #008700; font-weight: bold\">]</span><span style=\"color: #008700; text-decoration-color: #008700\">'</span>                                                          <span style=\"color: #7f7f7f; text-decoration-color: #7f7f7f\">            </span>\n",
       "<span style=\"color: #7fbfbf; text-decoration-color: #7fbfbf\">                    </span>             image: training-housing-container                                     <span style=\"color: #7f7f7f; text-decoration-color: #7f7f7f\">            </span>\n",
       "<span style=\"color: #7fbfbf; text-decoration-color: #7fbfbf\">                    </span>             networks:                                                             <span style=\"color: #7f7f7f; text-decoration-color: #7f7f7f\">            </span>\n",
       "<span style=\"color: #7fbfbf; text-decoration-color: #7fbfbf\">                    </span>               sagemaker-local:                                                    <span style=\"color: #7f7f7f; text-decoration-color: #7f7f7f\">            </span>\n",
       "<span style=\"color: #7fbfbf; text-decoration-color: #7fbfbf\">                    </span>                 aliases:                                                          <span style=\"color: #7f7f7f; text-decoration-color: #7f7f7f\">            </span>\n",
       "<span style=\"color: #7fbfbf; text-decoration-color: #7fbfbf\">                    </span>                 - algo-<span style=\"color: #008080; text-decoration-color: #008080; font-weight: bold\">1</span>-f1mir                                                    <span style=\"color: #7f7f7f; text-decoration-color: #7f7f7f\">            </span>\n",
       "<span style=\"color: #7fbfbf; text-decoration-color: #7fbfbf\">                    </span>             stdin_open: true                                                      <span style=\"color: #7f7f7f; text-decoration-color: #7f7f7f\">            </span>\n",
       "<span style=\"color: #7fbfbf; text-decoration-color: #7fbfbf\">                    </span>             tty: true                                                             <span style=\"color: #7f7f7f; text-decoration-color: #7f7f7f\">            </span>\n",
       "<span style=\"color: #7fbfbf; text-decoration-color: #7fbfbf\">                    </span>             volumes:                                                              <span style=\"color: #7f7f7f; text-decoration-color: #7f7f7f\">            </span>\n",
       "<span style=\"color: #7fbfbf; text-decoration-color: #7fbfbf\">                    </span>             - <span style=\"color: #e100e1; text-decoration-color: #e100e1\">/tmp/tmpg19srkf3/algo-1-f1mir/input</span>:<span style=\"color: #e100e1; text-decoration-color: #e100e1\">/opt/ml/input</span>                   <span style=\"color: #7f7f7f; text-decoration-color: #7f7f7f\">            </span>\n",
       "<span style=\"color: #7fbfbf; text-decoration-color: #7fbfbf\">                    </span>             - <span style=\"color: #e100e1; text-decoration-color: #e100e1\">/tmp/tmpg19srkf3/algo-1-f1mir/output/data</span>:<span style=\"color: #e100e1; text-decoration-color: #e100e1\">/opt/ml/output/data</span>       <span style=\"color: #7f7f7f; text-decoration-color: #7f7f7f\">            </span>\n",
       "<span style=\"color: #7fbfbf; text-decoration-color: #7fbfbf\">                    </span>             - <span style=\"color: #e100e1; text-decoration-color: #e100e1\">/tmp/tmpg19srkf3/algo-1-f1mir/output</span>:<span style=\"color: #e100e1; text-decoration-color: #e100e1\">/opt/ml/output</span>                 <span style=\"color: #7f7f7f; text-decoration-color: #7f7f7f\">            </span>\n",
       "<span style=\"color: #7fbfbf; text-decoration-color: #7fbfbf\">                    </span>             - <span style=\"color: #e100e1; text-decoration-color: #e100e1\">/tmp/tmpg19srkf3/model</span>:<span style=\"color: #e100e1; text-decoration-color: #e100e1\">/opt/ml/model</span>                                <span style=\"color: #7f7f7f; text-decoration-color: #7f7f7f\">            </span>\n",
       "<span style=\"color: #7fbfbf; text-decoration-color: #7fbfbf\">                    </span>             - <span style=\"color: #e100e1; text-decoration-color: #e100e1\">/opt/ml/metadata</span>:<span style=\"color: #e100e1; text-decoration-color: #e100e1\">/opt/ml/metadata</span>                                   <span style=\"color: #7f7f7f; text-decoration-color: #7f7f7f\">            </span>\n",
       "<span style=\"color: #7fbfbf; text-decoration-color: #7fbfbf\">                    </span>             -                                                                     <span style=\"color: #7f7f7f; text-decoration-color: #7f7f7f\">            </span>\n",
       "<span style=\"color: #7fbfbf; text-decoration-color: #7fbfbf\">                    </span>         <span style=\"color: #e100e1; text-decoration-color: #e100e1\">/home/ec2-user/SageMaker/UFS14/training/data/input</span>:<span style=\"color: #e100e1; text-decoration-color: #e100e1\">/opt/ml/input/data/tra</span> <span style=\"color: #7f7f7f; text-decoration-color: #7f7f7f\">            </span>\n",
       "<span style=\"color: #7fbfbf; text-decoration-color: #7fbfbf\">                    </span>         <span style=\"color: #e100e1; text-decoration-color: #e100e1\">ining</span>                                                                     <span style=\"color: #7f7f7f; text-decoration-color: #7f7f7f\">            </span>\n",
       "<span style=\"color: #7fbfbf; text-decoration-color: #7fbfbf\">                    </span>         version: <span style=\"color: #008700; text-decoration-color: #008700\">'2.3'</span>                                                            <span style=\"color: #7f7f7f; text-decoration-color: #7f7f7f\">            </span>\n",
       "<span style=\"color: #7fbfbf; text-decoration-color: #7fbfbf\">                    </span>                                                                                   <span style=\"color: #7f7f7f; text-decoration-color: #7f7f7f\">            </span>\n",
       "</pre>\n"
      ],
      "text/plain": [
       "\u001b[2;36m                   \u001b[0m\u001b[2;36m \u001b[0m\u001b[1;38;2;0;105;255mINFO    \u001b[0m docker compose file:                                                      \u001b]8;id=887654;file:///home/ec2-user/anaconda3/envs/python3/lib/python3.10/site-packages/sagemaker/local/image.py\u001b\\\u001b[2mimage.py\u001b[0m\u001b]8;;\u001b\\\u001b[2m:\u001b[0m\u001b]8;id=803572;file:///home/ec2-user/anaconda3/envs/python3/lib/python3.10/site-packages/sagemaker/local/image.py#771\u001b\\\u001b[2m771\u001b[0m\u001b]8;;\u001b\\\n",
       "\u001b[2;36m                    \u001b[0m         networks:                                                                 \u001b[2m            \u001b[0m\n",
       "\u001b[2;36m                    \u001b[0m           sagemaker-local:                                                        \u001b[2m            \u001b[0m\n",
       "\u001b[2;36m                    \u001b[0m             name: sagemaker-local                                                 \u001b[2m            \u001b[0m\n",
       "\u001b[2;36m                    \u001b[0m         services:                                                                 \u001b[2m            \u001b[0m\n",
       "\u001b[2;36m                    \u001b[0m           algo-\u001b[1;36m1\u001b[0m-f1mir:                                                           \u001b[2m            \u001b[0m\n",
       "\u001b[2;36m                    \u001b[0m             command: train                                                        \u001b[2m            \u001b[0m\n",
       "\u001b[2;36m                    \u001b[0m             container_name: usr7gvpjm2-algo-\u001b[1;36m1\u001b[0m-f1mir                               \u001b[2m            \u001b[0m\n",
       "\u001b[2;36m                    \u001b[0m             environment:                                                          \u001b[2m            \u001b[0m\n",
       "\u001b[2;36m                    \u001b[0m             - \u001b[38;2;0;135;0m'\u001b[0m\u001b[1;38;2;0;135;0m[\u001b[0m\u001b[38;2;0;135;0mMasked\u001b[0m\u001b[1;38;2;0;135;0m]\u001b[0m\u001b[38;2;0;135;0m'\u001b[0m                                                          \u001b[2m            \u001b[0m\n",
       "\u001b[2;36m                    \u001b[0m             - \u001b[38;2;0;135;0m'\u001b[0m\u001b[1;38;2;0;135;0m[\u001b[0m\u001b[38;2;0;135;0mMasked\u001b[0m\u001b[1;38;2;0;135;0m]\u001b[0m\u001b[38;2;0;135;0m'\u001b[0m                                                          \u001b[2m            \u001b[0m\n",
       "\u001b[2;36m                    \u001b[0m             - \u001b[38;2;0;135;0m'\u001b[0m\u001b[1;38;2;0;135;0m[\u001b[0m\u001b[38;2;0;135;0mMasked\u001b[0m\u001b[1;38;2;0;135;0m]\u001b[0m\u001b[38;2;0;135;0m'\u001b[0m                                                          \u001b[2m            \u001b[0m\n",
       "\u001b[2;36m                    \u001b[0m             image: training-housing-container                                     \u001b[2m            \u001b[0m\n",
       "\u001b[2;36m                    \u001b[0m             networks:                                                             \u001b[2m            \u001b[0m\n",
       "\u001b[2;36m                    \u001b[0m               sagemaker-local:                                                    \u001b[2m            \u001b[0m\n",
       "\u001b[2;36m                    \u001b[0m                 aliases:                                                          \u001b[2m            \u001b[0m\n",
       "\u001b[2;36m                    \u001b[0m                 - algo-\u001b[1;36m1\u001b[0m-f1mir                                                    \u001b[2m            \u001b[0m\n",
       "\u001b[2;36m                    \u001b[0m             stdin_open: true                                                      \u001b[2m            \u001b[0m\n",
       "\u001b[2;36m                    \u001b[0m             tty: true                                                             \u001b[2m            \u001b[0m\n",
       "\u001b[2;36m                    \u001b[0m             volumes:                                                              \u001b[2m            \u001b[0m\n",
       "\u001b[2;36m                    \u001b[0m             - \u001b[38;2;225;0;225m/tmp/tmpg19srkf3/algo-1-f1mir/\u001b[0m\u001b[38;2;225;0;225minput\u001b[0m:\u001b[38;2;225;0;225m/opt/ml/\u001b[0m\u001b[38;2;225;0;225minput\u001b[0m                   \u001b[2m            \u001b[0m\n",
       "\u001b[2;36m                    \u001b[0m             - \u001b[38;2;225;0;225m/tmp/tmpg19srkf3/algo-1-f1mir/output/\u001b[0m\u001b[38;2;225;0;225mdata\u001b[0m:\u001b[38;2;225;0;225m/opt/ml/output/\u001b[0m\u001b[38;2;225;0;225mdata\u001b[0m       \u001b[2m            \u001b[0m\n",
       "\u001b[2;36m                    \u001b[0m             - \u001b[38;2;225;0;225m/tmp/tmpg19srkf3/algo-1-f1mir/\u001b[0m\u001b[38;2;225;0;225moutput\u001b[0m:\u001b[38;2;225;0;225m/opt/ml/\u001b[0m\u001b[38;2;225;0;225moutput\u001b[0m                 \u001b[2m            \u001b[0m\n",
       "\u001b[2;36m                    \u001b[0m             - \u001b[38;2;225;0;225m/tmp/tmpg19srkf3/\u001b[0m\u001b[38;2;225;0;225mmodel\u001b[0m:\u001b[38;2;225;0;225m/opt/ml/\u001b[0m\u001b[38;2;225;0;225mmodel\u001b[0m                                \u001b[2m            \u001b[0m\n",
       "\u001b[2;36m                    \u001b[0m             - \u001b[38;2;225;0;225m/opt/ml/\u001b[0m\u001b[38;2;225;0;225mmetadata\u001b[0m:\u001b[38;2;225;0;225m/opt/ml/\u001b[0m\u001b[38;2;225;0;225mmetadata\u001b[0m                                   \u001b[2m            \u001b[0m\n",
       "\u001b[2;36m                    \u001b[0m             -                                                                     \u001b[2m            \u001b[0m\n",
       "\u001b[2;36m                    \u001b[0m         \u001b[38;2;225;0;225m/home/ec2-user/SageMaker/UFS14/training/data/\u001b[0m\u001b[38;2;225;0;225minput\u001b[0m:\u001b[38;2;225;0;225m/opt/ml/input/data/\u001b[0m\u001b[38;2;225;0;225mtra\u001b[0m \u001b[2m            \u001b[0m\n",
       "\u001b[2;36m                    \u001b[0m         \u001b[38;2;225;0;225mining\u001b[0m                                                                     \u001b[2m            \u001b[0m\n",
       "\u001b[2;36m                    \u001b[0m         version: \u001b[38;2;0;135;0m'2.3'\u001b[0m                                                            \u001b[2m            \u001b[0m\n",
       "\u001b[2;36m                    \u001b[0m                                                                                   \u001b[2m            \u001b[0m\n"
      ]
     },
     "metadata": {},
     "output_type": "display_data"
    },
    {
     "data": {
      "text/html": [
       "<pre style=\"white-space:pre;overflow-x:auto;line-height:normal;font-family:Menlo,'DejaVu Sans Mono',consolas,'Courier New',monospace\"><span style=\"color: #7fbfbf; text-decoration-color: #7fbfbf\">                    </span><span style=\"color: #0069ff; text-decoration-color: #0069ff; font-weight: bold\">INFO    </span> docker command: docker-compose -f <span style=\"color: #e100e1; text-decoration-color: #e100e1\">/tmp/tmpg19srkf3/docker-compose.yaml</span> up <a href=\"file:///home/ec2-user/anaconda3/envs/python3/lib/python3.10/site-packages/sagemaker/local/image.py\" target=\"_blank\"><span style=\"color: #7f7f7f; text-decoration-color: #7f7f7f\">image.py</span></a><span style=\"color: #7f7f7f; text-decoration-color: #7f7f7f\">:</span><a href=\"file:///home/ec2-user/anaconda3/envs/python3/lib/python3.10/site-packages/sagemaker/local/image.py#795\" target=\"_blank\"><span style=\"color: #7f7f7f; text-decoration-color: #7f7f7f\">795</span></a>\n",
       "<span style=\"color: #7fbfbf; text-decoration-color: #7fbfbf\">                    </span>         --build --abort-on-container-exit                                         <span style=\"color: #7f7f7f; text-decoration-color: #7f7f7f\">            </span>\n",
       "</pre>\n"
      ],
      "text/plain": [
       "\u001b[2;36m                   \u001b[0m\u001b[2;36m \u001b[0m\u001b[1;38;2;0;105;255mINFO    \u001b[0m docker command: docker-compose -f \u001b[38;2;225;0;225m/tmp/tmpg19srkf3/\u001b[0m\u001b[38;2;225;0;225mdocker-compose.yaml\u001b[0m up \u001b]8;id=293528;file:///home/ec2-user/anaconda3/envs/python3/lib/python3.10/site-packages/sagemaker/local/image.py\u001b\\\u001b[2mimage.py\u001b[0m\u001b]8;;\u001b\\\u001b[2m:\u001b[0m\u001b]8;id=237433;file:///home/ec2-user/anaconda3/envs/python3/lib/python3.10/site-packages/sagemaker/local/image.py#795\u001b\\\u001b[2m795\u001b[0m\u001b]8;;\u001b\\\n",
       "\u001b[2;36m                    \u001b[0m         --build --abort-on-container-exit                                         \u001b[2m            \u001b[0m\n"
      ]
     },
     "metadata": {},
     "output_type": "display_data"
    },
    {
     "name": "stdout",
     "output_type": "stream",
     "text": [
      " Container usr7gvpjm2-algo-1-f1mir  Creating\n",
      " Container usr7gvpjm2-algo-1-f1mir  Created\n",
      "Attaching to usr7gvpjm2-algo-1-f1mir\n",
      "usr7gvpjm2-algo-1-f1mir  | 2024-11-22 13:27:19.983350: E external/local_xla/xla/stream_executor/cuda/cuda_fft.cc:479] Unable to register cuFFT factory: Attempting to register factory for plugin cuFFT when one has already been registered\n",
      "usr7gvpjm2-algo-1-f1mir  | 2024-11-22 13:27:20.011757: E external/local_xla/xla/stream_executor/cuda/cuda_dnn.cc:10575] Unable to register cuDNN factory: Attempting to register factory for plugin cuDNN when one has already been registered\n",
      "usr7gvpjm2-algo-1-f1mir  | 2024-11-22 13:27:20.011815: E external/local_xla/xla/stream_executor/cuda/cuda_blas.cc:1442] Unable to register cuBLAS factory: Attempting to register factory for plugin cuBLAS when one has already been registered\n",
      "usr7gvpjm2-algo-1-f1mir  | 2024-11-22 13:27:20.029843: I tensorflow/core/platform/cpu_feature_guard.cc:210] This TensorFlow binary is optimized to use available CPU instructions in performance-critical operations.\n",
      "usr7gvpjm2-algo-1-f1mir  | To enable the following instructions: AVX2 FMA, in other operations, rebuild TensorFlow with the appropriate compiler flags.\n",
      "usr7gvpjm2-algo-1-f1mir  | 2024-11-22 13:27:21.281379: W tensorflow/compiler/tf2tensorrt/utils/py_utils.cc:38] TF-TRT Warning: Could not find TensorRT\n",
      "usr7gvpjm2-algo-1-f1mir  | 2024-11-22 13:27:22,444 sagemaker-training-toolkit INFO     Imported framework sagemaker_tensorflow_container.training\n",
      "usr7gvpjm2-algo-1-f1mir  | 2024-11-22 13:27:22,445 sagemaker-training-toolkit INFO     No GPUs detected (normal if no gpus installed)\n",
      "usr7gvpjm2-algo-1-f1mir  | 2024-11-22 13:27:22,446 sagemaker-training-toolkit INFO     No Neurons detected (normal if no neurons installed)\n",
      "usr7gvpjm2-algo-1-f1mir  | 2024-11-22 13:27:22,458 sagemaker-training-toolkit INFO     instance_groups entry not present in resource_config\n",
      "usr7gvpjm2-algo-1-f1mir  | 2024-11-22 13:27:22,461 sagemaker-training-toolkit INFO     Installing dependencies from requirements.txt:\n",
      "usr7gvpjm2-algo-1-f1mir  | /usr/local/bin/python3.10 -m pip install -r requirements.txt\n",
      "usr7gvpjm2-algo-1-f1mir  | Requirement already satisfied: absl-py==2.1.0 in /usr/local/lib/python3.10/site-packages (from -r requirements.txt (line 1)) (2.1.0)\n",
      "usr7gvpjm2-algo-1-f1mir  | Requirement already satisfied: aioice==0.9.0 in /usr/local/lib/python3.10/site-packages (from -r requirements.txt (line 2)) (0.9.0)\n",
      "usr7gvpjm2-algo-1-f1mir  | Requirement already satisfied: aiortc==1.9.0 in /usr/local/lib/python3.10/site-packages (from -r requirements.txt (line 3)) (1.9.0)\n",
      "usr7gvpjm2-algo-1-f1mir  | Requirement already satisfied: altair==5.3.0 in /usr/local/lib/python3.10/site-packages (from -r requirements.txt (line 4)) (5.3.0)\n",
      "usr7gvpjm2-algo-1-f1mir  | Requirement already satisfied: astunparse==1.6.3 in /usr/local/lib/python3.10/site-packages (from -r requirements.txt (line 5)) (1.6.3)\n",
      "usr7gvpjm2-algo-1-f1mir  | Requirement already satisfied: attrs==23.2.0 in /usr/local/lib/python3.10/site-packages (from -r requirements.txt (line 6)) (23.2.0)\n",
      "usr7gvpjm2-algo-1-f1mir  | Requirement already satisfied: av==12.2.0 in /usr/local/lib/python3.10/site-packages (from -r requirements.txt (line 7)) (12.2.0)\n",
      "usr7gvpjm2-algo-1-f1mir  | Requirement already satisfied: blinker==1.8.2 in /usr/local/lib/python3.10/site-packages (from -r requirements.txt (line 8)) (1.8.2)\n",
      "usr7gvpjm2-algo-1-f1mir  | Requirement already satisfied: cachetools==5.3.3 in /usr/local/lib/python3.10/site-packages (from -r requirements.txt (line 9)) (5.3.3)\n",
      "usr7gvpjm2-algo-1-f1mir  | Requirement already satisfied: certifi==2024.6.2 in /usr/local/lib/python3.10/site-packages (from -r requirements.txt (line 10)) (2024.6.2)\n",
      "usr7gvpjm2-algo-1-f1mir  | Requirement already satisfied: cffi==1.16.0 in /usr/local/lib/python3.10/site-packages (from -r requirements.txt (line 11)) (1.16.0)\n",
      "usr7gvpjm2-algo-1-f1mir  | Requirement already satisfied: charset-normalizer==3.3.2 in /usr/local/lib/python3.10/site-packages (from -r requirements.txt (line 12)) (3.3.2)\n",
      "usr7gvpjm2-algo-1-f1mir  | Requirement already satisfied: click==8.1.7 in /usr/local/lib/python3.10/site-packages (from -r requirements.txt (line 13)) (8.1.7)\n",
      "usr7gvpjm2-algo-1-f1mir  | Requirement already satisfied: contourpy==1.2.1 in /usr/local/lib/python3.10/site-packages (from -r requirements.txt (line 14)) (1.2.1)\n",
      "usr7gvpjm2-algo-1-f1mir  | Requirement already satisfied: cryptography==42.0.8 in /usr/local/lib/python3.10/site-packages (from -r requirements.txt (line 15)) (42.0.8)\n",
      "usr7gvpjm2-algo-1-f1mir  | Requirement already satisfied: cycler==0.12.1 in /usr/local/lib/python3.10/site-packages (from -r requirements.txt (line 16)) (0.12.1)\n",
      "usr7gvpjm2-algo-1-f1mir  | Requirement already satisfied: dnspython==2.6.1 in /usr/local/lib/python3.10/site-packages (from -r requirements.txt (line 17)) (2.6.1)\n",
      "usr7gvpjm2-algo-1-f1mir  | Requirement already satisfied: flatbuffers==24.3.25 in /usr/local/lib/python3.10/site-packages (from -r requirements.txt (line 18)) (24.3.25)\n",
      "usr7gvpjm2-algo-1-f1mir  | Requirement already satisfied: fonttools==4.53.0 in /usr/local/lib/python3.10/site-packages (from -r requirements.txt (line 19)) (4.53.0)\n",
      "usr7gvpjm2-algo-1-f1mir  | Requirement already satisfied: gast==0.6.0 in /usr/local/lib/python3.10/site-packages (from -r requirements.txt (line 20)) (0.6.0)\n",
      "usr7gvpjm2-algo-1-f1mir  | Requirement already satisfied: gitdb==4.0.11 in /usr/local/lib/python3.10/site-packages (from -r requirements.txt (line 21)) (4.0.11)\n",
      "usr7gvpjm2-algo-1-f1mir  | Requirement already satisfied: GitPython==3.1.43 in /usr/local/lib/python3.10/site-packages (from -r requirements.txt (line 22)) (3.1.43)\n",
      "usr7gvpjm2-algo-1-f1mir  | Requirement already satisfied: google-crc32c==1.5.0 in /usr/local/lib/python3.10/site-packages (from -r requirements.txt (line 23)) (1.5.0)\n",
      "usr7gvpjm2-algo-1-f1mir  | Requirement already satisfied: google-pasta==0.2.0 in /usr/local/lib/python3.10/site-packages (from -r requirements.txt (line 24)) (0.2.0)\n",
      "usr7gvpjm2-algo-1-f1mir  | Requirement already satisfied: grpcio==1.64.1 in /usr/local/lib/python3.10/site-packages (from -r requirements.txt (line 25)) (1.64.1)\n",
      "usr7gvpjm2-algo-1-f1mir  | Requirement already satisfied: h5py==3.11.0 in /usr/local/lib/python3.10/site-packages (from -r requirements.txt (line 26)) (3.11.0)\n",
      "usr7gvpjm2-algo-1-f1mir  | Requirement already satisfied: idna==3.7 in /usr/local/lib/python3.10/site-packages (from -r requirements.txt (line 27)) (3.7)\n",
      "usr7gvpjm2-algo-1-f1mir  | Requirement already satisfied: ifaddr==0.2.0 in /usr/local/lib/python3.10/site-packages (from -r requirements.txt (line 28)) (0.2.0)\n",
      "usr7gvpjm2-algo-1-f1mir  | Requirement already satisfied: Jinja2==3.1.4 in /usr/local/lib/python3.10/site-packages (from -r requirements.txt (line 29)) (3.1.4)\n",
      "usr7gvpjm2-algo-1-f1mir  | Requirement already satisfied: jsonschema==4.22.0 in /usr/local/lib/python3.10/site-packages (from -r requirements.txt (line 30)) (4.22.0)\n",
      "usr7gvpjm2-algo-1-f1mir  | Requirement already satisfied: jsonschema-specifications==2023.12.1 in /usr/local/lib/python3.10/site-packages (from -r requirements.txt (line 31)) (2023.12.1)\n",
      "usr7gvpjm2-algo-1-f1mir  | Requirement already satisfied: keras==3.4.1 in /usr/local/lib/python3.10/site-packages (from -r requirements.txt (line 32)) (3.4.1)\n",
      "usr7gvpjm2-algo-1-f1mir  | Requirement already satisfied: kiwisolver==1.4.5 in /usr/local/lib/python3.10/site-packages (from -r requirements.txt (line 33)) (1.4.5)\n",
      "usr7gvpjm2-algo-1-f1mir  | Requirement already satisfied: libclang==18.1.1 in /usr/local/lib/python3.10/site-packages (from -r requirements.txt (line 34)) (18.1.1)\n",
      "usr7gvpjm2-algo-1-f1mir  | Requirement already satisfied: Markdown==3.6 in /usr/local/lib/python3.10/site-packages (from -r requirements.txt (line 35)) (3.6)\n",
      "usr7gvpjm2-algo-1-f1mir  | Requirement already satisfied: markdown-it-py==3.0.0 in /usr/local/lib/python3.10/site-packages (from -r requirements.txt (line 36)) (3.0.0)\n",
      "usr7gvpjm2-algo-1-f1mir  | Requirement already satisfied: MarkupSafe==2.1.5 in /usr/local/lib/python3.10/site-packages (from -r requirements.txt (line 37)) (2.1.5)\n",
      "usr7gvpjm2-algo-1-f1mir  | Requirement already satisfied: matplotlib==3.9.0 in /usr/local/lib/python3.10/site-packages (from -r requirements.txt (line 38)) (3.9.0)\n",
      "usr7gvpjm2-algo-1-f1mir  | Requirement already satisfied: mdurl==0.1.2 in /usr/local/lib/python3.10/site-packages (from -r requirements.txt (line 39)) (0.1.2)\n",
      "usr7gvpjm2-algo-1-f1mir  | Requirement already satisfied: ml-dtypes==0.3.2 in /usr/local/lib/python3.10/site-packages (from -r requirements.txt (line 40)) (0.3.2)\n",
      "usr7gvpjm2-algo-1-f1mir  | Requirement already satisfied: namex==0.0.8 in /usr/local/lib/python3.10/site-packages (from -r requirements.txt (line 41)) (0.0.8)\n",
      "usr7gvpjm2-algo-1-f1mir  | Requirement already satisfied: numpy==1.26.4 in /usr/local/lib/python3.10/site-packages (from -r requirements.txt (line 42)) (1.26.4)\n",
      "usr7gvpjm2-algo-1-f1mir  | Requirement already satisfied: nvidia-cublas-cu12==12.3.4.1 in /usr/local/lib/python3.10/site-packages (from -r requirements.txt (line 43)) (12.3.4.1)\n",
      "usr7gvpjm2-algo-1-f1mir  | Requirement already satisfied: nvidia-cuda-cupti-cu12==12.3.101 in /usr/local/lib/python3.10/site-packages (from -r requirements.txt (line 44)) (12.3.101)\n",
      "usr7gvpjm2-algo-1-f1mir  | Requirement already satisfied: nvidia-cuda-nvcc-cu12==12.3.107 in /usr/local/lib/python3.10/site-packages (from -r requirements.txt (line 45)) (12.3.107)\n",
      "usr7gvpjm2-algo-1-f1mir  | Requirement already satisfied: nvidia-cuda-nvrtc-cu12==12.3.107 in /usr/local/lib/python3.10/site-packages (from -r requirements.txt (line 46)) (12.3.107)\n",
      "usr7gvpjm2-algo-1-f1mir  | Requirement already satisfied: nvidia-cuda-runtime-cu12==12.3.101 in /usr/local/lib/python3.10/site-packages (from -r requirements.txt (line 47)) (12.3.101)\n",
      "usr7gvpjm2-algo-1-f1mir  | Requirement already satisfied: nvidia-cudnn-cu12==8.9.7.29 in /usr/local/lib/python3.10/site-packages (from -r requirements.txt (line 48)) (8.9.7.29)\n",
      "usr7gvpjm2-algo-1-f1mir  | Requirement already satisfied: nvidia-cufft-cu12==11.0.12.1 in /usr/local/lib/python3.10/site-packages (from -r requirements.txt (line 49)) (11.0.12.1)\n",
      "usr7gvpjm2-algo-1-f1mir  | Requirement already satisfied: nvidia-curand-cu12==10.3.4.107 in /usr/local/lib/python3.10/site-packages (from -r requirements.txt (line 50)) (10.3.4.107)\n",
      "usr7gvpjm2-algo-1-f1mir  | Requirement already satisfied: nvidia-cusolver-cu12==11.5.4.101 in /usr/local/lib/python3.10/site-packages (from -r requirements.txt (line 51)) (11.5.4.101)\n",
      "usr7gvpjm2-algo-1-f1mir  | Requirement already satisfied: nvidia-cusparse-cu12==12.2.0.103 in /usr/local/lib/python3.10/site-packages (from -r requirements.txt (line 52)) (12.2.0.103)\n",
      "usr7gvpjm2-algo-1-f1mir  | Requirement already satisfied: nvidia-nccl-cu12==2.19.3 in /usr/local/lib/python3.10/site-packages (from -r requirements.txt (line 53)) (2.19.3)\n",
      "usr7gvpjm2-algo-1-f1mir  | Requirement already satisfied: nvidia-nvjitlink-cu12==12.3.101 in /usr/local/lib/python3.10/site-packages (from -r requirements.txt (line 54)) (12.3.101)\n",
      "usr7gvpjm2-algo-1-f1mir  | Requirement already satisfied: opencv-python-headless==4.10.0.84 in /usr/local/lib/python3.10/site-packages (from -r requirements.txt (line 55)) (4.10.0.84)\n",
      "usr7gvpjm2-algo-1-f1mir  | Requirement already satisfied: opt-einsum==3.3.0 in /usr/local/lib/python3.10/site-packages (from -r requirements.txt (line 56)) (3.3.0)\n",
      "usr7gvpjm2-algo-1-f1mir  | Requirement already satisfied: optree==0.11.0 in /usr/local/lib/python3.10/site-packages (from -r requirements.txt (line 57)) (0.11.0)\n",
      "usr7gvpjm2-algo-1-f1mir  | Requirement already satisfied: packaging==24.1 in /usr/local/lib/python3.10/site-packages (from -r requirements.txt (line 58)) (24.1)\n",
      "usr7gvpjm2-algo-1-f1mir  | Requirement already satisfied: pandas==2.2.2 in /usr/local/lib/python3.10/site-packages (from -r requirements.txt (line 59)) (2.2.2)\n",
      "usr7gvpjm2-algo-1-f1mir  | Requirement already satisfied: pillow==10.4.0 in /usr/local/lib/python3.10/site-packages (from -r requirements.txt (line 60)) (10.4.0)\n",
      "usr7gvpjm2-algo-1-f1mir  | Requirement already satisfied: protobuf==4.25.3 in /usr/local/lib/python3.10/site-packages (from -r requirements.txt (line 61)) (4.25.3)\n",
      "usr7gvpjm2-algo-1-f1mir  | Requirement already satisfied: pyarrow==16.1.0 in /usr/local/lib/python3.10/site-packages (from -r requirements.txt (line 62)) (16.1.0)\n",
      "usr7gvpjm2-algo-1-f1mir  | Requirement already satisfied: pycparser==2.22 in /usr/local/lib/python3.10/site-packages (from -r requirements.txt (line 63)) (2.22)\n",
      "usr7gvpjm2-algo-1-f1mir  | Requirement already satisfied: pydeck==0.9.1 in /usr/local/lib/python3.10/site-packages (from -r requirements.txt (line 64)) (0.9.1)\n",
      "usr7gvpjm2-algo-1-f1mir  | Requirement already satisfied: pyee==11.1.0 in /usr/local/lib/python3.10/site-packages (from -r requirements.txt (line 65)) (11.1.0)\n",
      "usr7gvpjm2-algo-1-f1mir  | Requirement already satisfied: Pygments==2.18.0 in /usr/local/lib/python3.10/site-packages (from -r requirements.txt (line 66)) (2.18.0)\n",
      "usr7gvpjm2-algo-1-f1mir  | Requirement already satisfied: pylibsrtp==0.10.0 in /usr/local/lib/python3.10/site-packages (from -r requirements.txt (line 67)) (0.10.0)\n",
      "usr7gvpjm2-algo-1-f1mir  | Requirement already satisfied: pyOpenSSL==24.1.0 in /usr/local/lib/python3.10/site-packages (from -r requirements.txt (line 68)) (24.1.0)\n",
      "usr7gvpjm2-algo-1-f1mir  | Requirement already satisfied: pyparsing==3.1.2 in /usr/local/lib/python3.10/site-packages (from -r requirements.txt (line 69)) (3.1.2)\n",
      "usr7gvpjm2-algo-1-f1mir  | Requirement already satisfied: python-dateutil==2.9.0.post0 in /usr/local/lib/python3.10/site-packages (from -r requirements.txt (line 70)) (2.9.0.post0)\n",
      "usr7gvpjm2-algo-1-f1mir  | Requirement already satisfied: pytz==2024.1 in /usr/local/lib/python3.10/site-packages (from -r requirements.txt (line 71)) (2024.1)\n",
      "usr7gvpjm2-algo-1-f1mir  | Requirement already satisfied: referencing==0.35.1 in /usr/local/lib/python3.10/site-packages (from -r requirements.txt (line 72)) (0.35.1)\n",
      "usr7gvpjm2-algo-1-f1mir  | Requirement already satisfied: requests==2.32.3 in /usr/local/lib/python3.10/site-packages (from -r requirements.txt (line 73)) (2.32.3)\n",
      "usr7gvpjm2-algo-1-f1mir  | Requirement already satisfied: rich==13.7.1 in /usr/local/lib/python3.10/site-packages (from -r requirements.txt (line 74)) (13.7.1)\n",
      "usr7gvpjm2-algo-1-f1mir  | Requirement already satisfied: rpds-py==0.18.1 in /usr/local/lib/python3.10/site-packages (from -r requirements.txt (line 75)) (0.18.1)\n",
      "usr7gvpjm2-algo-1-f1mir  | Requirement already satisfied: seaborn==0.13.2 in /usr/local/lib/python3.10/site-packages (from -r requirements.txt (line 76)) (0.13.2)\n",
      "usr7gvpjm2-algo-1-f1mir  | Requirement already satisfied: six==1.16.0 in /usr/local/lib/python3.10/site-packages (from -r requirements.txt (line 77)) (1.16.0)\n",
      "usr7gvpjm2-algo-1-f1mir  | Requirement already satisfied: smmap==5.0.1 in /usr/local/lib/python3.10/site-packages (from -r requirements.txt (line 78)) (5.0.1)\n",
      "usr7gvpjm2-algo-1-f1mir  | Requirement already satisfied: streamlit==1.36.0 in /usr/local/lib/python3.10/site-packages (from -r requirements.txt (line 79)) (1.36.0)\n",
      "usr7gvpjm2-algo-1-f1mir  | Requirement already satisfied: streamlit-webrtc==0.47.7 in /usr/local/lib/python3.10/site-packages (from -r requirements.txt (line 80)) (0.47.7)\n",
      "usr7gvpjm2-algo-1-f1mir  | Requirement already satisfied: tenacity==8.4.2 in /usr/local/lib/python3.10/site-packages (from -r requirements.txt (line 81)) (8.4.2)\n",
      "usr7gvpjm2-algo-1-f1mir  | Requirement already satisfied: tensorboard==2.16.2 in /usr/local/lib/python3.10/site-packages (from -r requirements.txt (line 82)) (2.16.2)\n",
      "usr7gvpjm2-algo-1-f1mir  | Requirement already satisfied: tensorboard-data-server==0.7.2 in /usr/local/lib/python3.10/site-packages (from -r requirements.txt (line 83)) (0.7.2)\n",
      "usr7gvpjm2-algo-1-f1mir  | Requirement already satisfied: tensorflow==2.16.2 in /usr/local/lib/python3.10/site-packages (from -r requirements.txt (line 84)) (2.16.2)\n",
      "usr7gvpjm2-algo-1-f1mir  | Requirement already satisfied: tensorflow-io-gcs-filesystem==0.37.1 in /usr/local/lib/python3.10/site-packages (from -r requirements.txt (line 85)) (0.37.1)\n",
      "usr7gvpjm2-algo-1-f1mir  | Requirement already satisfied: termcolor==2.4.0 in /usr/local/lib/python3.10/site-packages (from -r requirements.txt (line 86)) (2.4.0)\n",
      "usr7gvpjm2-algo-1-f1mir  | Requirement already satisfied: toml==0.10.2 in /usr/local/lib/python3.10/site-packages (from -r requirements.txt (line 87)) (0.10.2)\n",
      "usr7gvpjm2-algo-1-f1mir  | Requirement already satisfied: toolz==0.12.1 in /usr/local/lib/python3.10/site-packages (from -r requirements.txt (line 88)) (0.12.1)\n",
      "usr7gvpjm2-algo-1-f1mir  | Requirement already satisfied: tornado==6.4.1 in /usr/local/lib/python3.10/site-packages (from -r requirements.txt (line 89)) (6.4.1)\n",
      "usr7gvpjm2-algo-1-f1mir  | Requirement already satisfied: tqdm==4.66.4 in /usr/local/lib/python3.10/site-packages (from -r requirements.txt (line 90)) (4.66.4)\n",
      "usr7gvpjm2-algo-1-f1mir  | Requirement already satisfied: typing_extensions==4.12.2 in /usr/local/lib/python3.10/site-packages (from -r requirements.txt (line 91)) (4.12.2)\n",
      "usr7gvpjm2-algo-1-f1mir  | Requirement already satisfied: tzdata==2024.1 in /usr/local/lib/python3.10/site-packages (from -r requirements.txt (line 92)) (2024.1)\n",
      "usr7gvpjm2-algo-1-f1mir  | Requirement already satisfied: urllib3==2.2.2 in /usr/local/lib/python3.10/site-packages (from -r requirements.txt (line 93)) (2.2.2)\n",
      "usr7gvpjm2-algo-1-f1mir  | Requirement already satisfied: watchdog==4.0.1 in /usr/local/lib/python3.10/site-packages (from -r requirements.txt (line 94)) (4.0.1)\n",
      "usr7gvpjm2-algo-1-f1mir  | Requirement already satisfied: Werkzeug==3.0.3 in /usr/local/lib/python3.10/site-packages (from -r requirements.txt (line 95)) (3.0.3)\n",
      "usr7gvpjm2-algo-1-f1mir  | Requirement already satisfied: wrapt==1.16.0 in /usr/local/lib/python3.10/site-packages (from -r requirements.txt (line 96)) (1.16.0)\n",
      "usr7gvpjm2-algo-1-f1mir  | Requirement already satisfied: wheel<1.0,>=0.23.0 in /usr/local/lib/python3.10/site-packages (from astunparse==1.6.3->-r requirements.txt (line 5)) (0.42.0)\n",
      "usr7gvpjm2-algo-1-f1mir  | Requirement already satisfied: setuptools>=41.0.0 in /usr/local/lib/python3.10/site-packages (from tensorboard==2.16.2->-r requirements.txt (line 82)) (69.0.3)\n",
      "usr7gvpjm2-algo-1-f1mir  | WARNING: Running pip as the 'root' user can result in broken permissions and conflicting behaviour with the system package manager. It is recommended to use a virtual environment instead: https://pip.pypa.io/warnings/venv\n",
      "usr7gvpjm2-algo-1-f1mir  | [notice] A new release of pip is available: 23.3.2 -> 24.3.1\n",
      "usr7gvpjm2-algo-1-f1mir  | [notice] To update, run: pip install --upgrade pip\n",
      "usr7gvpjm2-algo-1-f1mir  | 2024-11-22 13:27:26,778 sagemaker-training-toolkit INFO     Waiting for the process to finish and give a return code.\n",
      "usr7gvpjm2-algo-1-f1mir  | 2024-11-22 13:27:26,778 sagemaker-training-toolkit INFO     Done waiting for a return code. Received 0 from exiting process.\n",
      "usr7gvpjm2-algo-1-f1mir  | 2024-11-22 13:27:26,780 sagemaker-training-toolkit INFO     No GPUs detected (normal if no gpus installed)\n",
      "usr7gvpjm2-algo-1-f1mir  | 2024-11-22 13:27:26,781 sagemaker-training-toolkit INFO     No Neurons detected (normal if no neurons installed)\n",
      "usr7gvpjm2-algo-1-f1mir  | 2024-11-22 13:27:26,792 sagemaker-training-toolkit INFO     instance_groups entry not present in resource_config\n",
      "usr7gvpjm2-algo-1-f1mir  | 2024-11-22 13:27:26,796 sagemaker-training-toolkit INFO     No GPUs detected (normal if no gpus installed)\n",
      "usr7gvpjm2-algo-1-f1mir  | 2024-11-22 13:27:26,797 sagemaker-training-toolkit INFO     No Neurons detected (normal if no neurons installed)\n",
      "usr7gvpjm2-algo-1-f1mir  | 2024-11-22 13:27:26,808 sagemaker-training-toolkit INFO     instance_groups entry not present in resource_config\n",
      "usr7gvpjm2-algo-1-f1mir  | 2024-11-22 13:27:26,811 sagemaker-training-toolkit INFO     No GPUs detected (normal if no gpus installed)\n",
      "usr7gvpjm2-algo-1-f1mir  | 2024-11-22 13:27:26,812 sagemaker-training-toolkit INFO     No Neurons detected (normal if no neurons installed)\n",
      "usr7gvpjm2-algo-1-f1mir  | 2024-11-22 13:27:26,823 sagemaker-training-toolkit INFO     instance_groups entry not present in resource_config\n",
      "usr7gvpjm2-algo-1-f1mir  | 2024-11-22 13:27:26,826 sagemaker-training-toolkit INFO     Invoking user script\n",
      "usr7gvpjm2-algo-1-f1mir  | \n",
      "usr7gvpjm2-algo-1-f1mir  | Training Env:\n",
      "usr7gvpjm2-algo-1-f1mir  | \n",
      "usr7gvpjm2-algo-1-f1mir  | {\n",
      "usr7gvpjm2-algo-1-f1mir  |     \"additional_framework_parameters\": {},\n",
      "usr7gvpjm2-algo-1-f1mir  |     \"channel_input_dirs\": {\n",
      "usr7gvpjm2-algo-1-f1mir  |         \"training\": \"/opt/ml/input/data/training\"\n",
      "usr7gvpjm2-algo-1-f1mir  |     },\n",
      "usr7gvpjm2-algo-1-f1mir  |     \"current_host\": \"algo-1-f1mir\",\n",
      "usr7gvpjm2-algo-1-f1mir  |     \"current_instance_group\": \"homogeneousCluster\",\n",
      "usr7gvpjm2-algo-1-f1mir  |     \"current_instance_group_hosts\": [],\n",
      "usr7gvpjm2-algo-1-f1mir  |     \"current_instance_type\": \"local\",\n",
      "usr7gvpjm2-algo-1-f1mir  |     \"distribution_hosts\": [\n",
      "usr7gvpjm2-algo-1-f1mir  |         \"algo-1-f1mir\"\n",
      "usr7gvpjm2-algo-1-f1mir  |     ],\n",
      "usr7gvpjm2-algo-1-f1mir  |     \"distribution_instance_groups\": [],\n",
      "usr7gvpjm2-algo-1-f1mir  |     \"framework_module\": \"sagemaker_tensorflow_container.training:main\",\n",
      "usr7gvpjm2-algo-1-f1mir  |     \"hosts\": [\n",
      "usr7gvpjm2-algo-1-f1mir  |         \"algo-1-f1mir\"\n",
      "usr7gvpjm2-algo-1-f1mir  |     ],\n",
      "usr7gvpjm2-algo-1-f1mir  |     \"hyperparameters\": {\n",
      "usr7gvpjm2-algo-1-f1mir  |         \"epochs\": 1\n",
      "usr7gvpjm2-algo-1-f1mir  |     },\n",
      "usr7gvpjm2-algo-1-f1mir  |     \"input_config_dir\": \"/opt/ml/input/config\",\n",
      "usr7gvpjm2-algo-1-f1mir  |     \"input_data_config\": {\n",
      "usr7gvpjm2-algo-1-f1mir  |         \"training\": {\n",
      "usr7gvpjm2-algo-1-f1mir  |             \"TrainingInputMode\": \"File\"\n",
      "usr7gvpjm2-algo-1-f1mir  |         }\n",
      "usr7gvpjm2-algo-1-f1mir  |     },\n",
      "usr7gvpjm2-algo-1-f1mir  |     \"input_dir\": \"/opt/ml/input\",\n",
      "usr7gvpjm2-algo-1-f1mir  |     \"instance_groups\": [],\n",
      "usr7gvpjm2-algo-1-f1mir  |     \"instance_groups_dict\": {},\n",
      "usr7gvpjm2-algo-1-f1mir  |     \"is_hetero\": false,\n",
      "usr7gvpjm2-algo-1-f1mir  |     \"is_master\": true,\n",
      "usr7gvpjm2-algo-1-f1mir  |     \"is_modelparallel_enabled\": null,\n",
      "usr7gvpjm2-algo-1-f1mir  |     \"is_smddpmprun_installed\": false,\n",
      "usr7gvpjm2-algo-1-f1mir  |     \"is_smddprun_installed\": false,\n",
      "usr7gvpjm2-algo-1-f1mir  |     \"job_name\": \"training-housing-container-2024-11-22-13-27-18-674\",\n",
      "usr7gvpjm2-algo-1-f1mir  |     \"log_level\": 20,\n",
      "usr7gvpjm2-algo-1-f1mir  |     \"master_hostname\": \"algo-1-f1mir\",\n",
      "usr7gvpjm2-algo-1-f1mir  |     \"model_dir\": \"/opt/ml/model\",\n",
      "usr7gvpjm2-algo-1-f1mir  |     \"module_dir\": \"/opt/ml/code\",\n",
      "usr7gvpjm2-algo-1-f1mir  |     \"module_name\": \"training\",\n",
      "usr7gvpjm2-algo-1-f1mir  |     \"network_interface_name\": \"eth0\",\n",
      "usr7gvpjm2-algo-1-f1mir  |     \"num_cpus\": 4,\n",
      "usr7gvpjm2-algo-1-f1mir  |     \"num_gpus\": 0,\n",
      "usr7gvpjm2-algo-1-f1mir  |     \"num_neurons\": 0,\n",
      "usr7gvpjm2-algo-1-f1mir  |     \"output_data_dir\": \"/opt/ml/output/data\",\n",
      "usr7gvpjm2-algo-1-f1mir  |     \"output_dir\": \"/opt/ml/output\",\n",
      "usr7gvpjm2-algo-1-f1mir  |     \"output_intermediate_dir\": \"/opt/ml/output/intermediate\",\n",
      "usr7gvpjm2-algo-1-f1mir  |     \"resource_config\": {\n",
      "usr7gvpjm2-algo-1-f1mir  |         \"current_host\": \"algo-1-f1mir\",\n",
      "usr7gvpjm2-algo-1-f1mir  |         \"hosts\": [\n",
      "usr7gvpjm2-algo-1-f1mir  |             \"algo-1-f1mir\"\n",
      "usr7gvpjm2-algo-1-f1mir  |         ]\n",
      "usr7gvpjm2-algo-1-f1mir  |     },\n",
      "usr7gvpjm2-algo-1-f1mir  |     \"user_entry_point\": \"training.py\"\n",
      "usr7gvpjm2-algo-1-f1mir  | }\n",
      "usr7gvpjm2-algo-1-f1mir  | \n",
      "usr7gvpjm2-algo-1-f1mir  | Environment variables:\n",
      "usr7gvpjm2-algo-1-f1mir  | \n",
      "usr7gvpjm2-algo-1-f1mir  | SM_HOSTS=[\"algo-1-f1mir\"]\n",
      "usr7gvpjm2-algo-1-f1mir  | SM_NETWORK_INTERFACE_NAME=eth0\n",
      "usr7gvpjm2-algo-1-f1mir  | SM_HPS={\"epochs\":1}\n",
      "usr7gvpjm2-algo-1-f1mir  | SM_USER_ENTRY_POINT=training.py\n",
      "usr7gvpjm2-algo-1-f1mir  | SM_FRAMEWORK_PARAMS={}\n",
      "usr7gvpjm2-algo-1-f1mir  | SM_RESOURCE_CONFIG={\"current_host\":\"algo-1-f1mir\",\"hosts\":[\"algo-1-f1mir\"]}\n",
      "usr7gvpjm2-algo-1-f1mir  | SM_INPUT_DATA_CONFIG={\"training\":{\"TrainingInputMode\":\"File\"}}\n",
      "usr7gvpjm2-algo-1-f1mir  | SM_OUTPUT_DATA_DIR=/opt/ml/output/data\n",
      "usr7gvpjm2-algo-1-f1mir  | SM_CHANNELS=[\"training\"]\n",
      "usr7gvpjm2-algo-1-f1mir  | SM_CURRENT_HOST=algo-1-f1mir\n",
      "usr7gvpjm2-algo-1-f1mir  | SM_CURRENT_INSTANCE_TYPE=local\n",
      "usr7gvpjm2-algo-1-f1mir  | SM_CURRENT_INSTANCE_GROUP=homogeneousCluster\n",
      "usr7gvpjm2-algo-1-f1mir  | SM_CURRENT_INSTANCE_GROUP_HOSTS=[]\n",
      "usr7gvpjm2-algo-1-f1mir  | SM_INSTANCE_GROUPS=[]\n",
      "usr7gvpjm2-algo-1-f1mir  | SM_INSTANCE_GROUPS_DICT={}\n",
      "usr7gvpjm2-algo-1-f1mir  | SM_DISTRIBUTION_INSTANCE_GROUPS=[]\n",
      "usr7gvpjm2-algo-1-f1mir  | SM_IS_HETERO=false\n",
      "usr7gvpjm2-algo-1-f1mir  | SM_MODULE_NAME=training\n",
      "usr7gvpjm2-algo-1-f1mir  | SM_LOG_LEVEL=20\n",
      "usr7gvpjm2-algo-1-f1mir  | SM_FRAMEWORK_MODULE=sagemaker_tensorflow_container.training:main\n",
      "usr7gvpjm2-algo-1-f1mir  | SM_INPUT_DIR=/opt/ml/input\n",
      "usr7gvpjm2-algo-1-f1mir  | SM_INPUT_CONFIG_DIR=/opt/ml/input/config\n",
      "usr7gvpjm2-algo-1-f1mir  | SM_OUTPUT_DIR=/opt/ml/output\n",
      "usr7gvpjm2-algo-1-f1mir  | SM_NUM_CPUS=4\n",
      "usr7gvpjm2-algo-1-f1mir  | SM_NUM_GPUS=0\n",
      "usr7gvpjm2-algo-1-f1mir  | SM_NUM_NEURONS=0\n",
      "usr7gvpjm2-algo-1-f1mir  | SM_MODEL_DIR=/opt/ml/model\n",
      "usr7gvpjm2-algo-1-f1mir  | SM_MODULE_DIR=/opt/ml/code\n",
      "usr7gvpjm2-algo-1-f1mir  | SM_TRAINING_ENV={\"additional_framework_parameters\":{},\"channel_input_dirs\":{\"training\":\"/opt/ml/input/data/training\"},\"current_host\":\"algo-1-f1mir\",\"current_instance_group\":\"homogeneousCluster\",\"current_instance_group_hosts\":[],\"current_instance_type\":\"local\",\"distribution_hosts\":[\"algo-1-f1mir\"],\"distribution_instance_groups\":[],\"framework_module\":\"sagemaker_tensorflow_container.training:main\",\"hosts\":[\"algo-1-f1mir\"],\"hyperparameters\":{\"epochs\":1},\"input_config_dir\":\"/opt/ml/input/config\",\"input_data_config\":{\"training\":{\"TrainingInputMode\":\"File\"}},\"input_dir\":\"/opt/ml/input\",\"instance_groups\":[],\"instance_groups_dict\":{},\"is_hetero\":false,\"is_master\":true,\"is_modelparallel_enabled\":null,\"is_smddpmprun_installed\":false,\"is_smddprun_installed\":false,\"job_name\":\"training-housing-container-2024-11-22-13-27-18-674\",\"log_level\":20,\"master_hostname\":\"algo-1-f1mir\",\"model_dir\":\"/opt/ml/model\",\"module_dir\":\"/opt/ml/code\",\"module_name\":\"training\",\"network_interface_name\":\"eth0\",\"num_cpus\":4,\"num_gpus\":0,\"num_neurons\":0,\"output_data_dir\":\"/opt/ml/output/data\",\"output_dir\":\"/opt/ml/output\",\"output_intermediate_dir\":\"/opt/ml/output/intermediate\",\"resource_config\":{\"current_host\":\"algo-1-f1mir\",\"hosts\":[\"algo-1-f1mir\"]},\"user_entry_point\":\"training.py\"}\n",
      "usr7gvpjm2-algo-1-f1mir  | SM_USER_ARGS=[\"--epochs\",\"1\"]\n",
      "usr7gvpjm2-algo-1-f1mir  | SM_OUTPUT_INTERMEDIATE_DIR=/opt/ml/output/intermediate\n",
      "usr7gvpjm2-algo-1-f1mir  | SM_CHANNEL_TRAINING=/opt/ml/input/data/training\n",
      "usr7gvpjm2-algo-1-f1mir  | SM_HP_EPOCHS=1\n",
      "usr7gvpjm2-algo-1-f1mir  | PYTHONPATH=/opt/ml/code:/usr/local/bin:/usr/local/lib/python310.zip:/usr/local/lib/python3.10:/usr/local/lib/python3.10/lib-dynload:/usr/local/lib/python3.10/site-packages:/usr/local/lib/python3.10/site-packages/smdebug-1.0.33-py3.10.egg:/usr/local/lib/python3.10/site-packages/pyinstrument-3.4.2-py3.10.egg:/usr/local/lib/python3.10/site-packages/pyinstrument_cext-0.2.4-py3.10-linux-x86_64.egg\n",
      "usr7gvpjm2-algo-1-f1mir  | \n",
      "usr7gvpjm2-algo-1-f1mir  | Invoking script with the following command:\n",
      "usr7gvpjm2-algo-1-f1mir  | \n",
      "usr7gvpjm2-algo-1-f1mir  | /usr/local/bin/python3.10 training.py --epochs 1\n",
      "usr7gvpjm2-algo-1-f1mir  | \n",
      "usr7gvpjm2-algo-1-f1mir  | \n",
      "usr7gvpjm2-algo-1-f1mir  | Extension horovod.torch has not been built: /usr/local/lib/python3.10/site-packages/horovod/torch/mpi_lib_v2.cpython-310-x86_64-linux-gnu.so not found\n",
      "usr7gvpjm2-algo-1-f1mir  | If this is not expected, reinstall Horovod with HOROVOD_WITH_PYTORCH=1 to debug the build error.\n",
      "usr7gvpjm2-algo-1-f1mir  | Warning! MPI libs are missing, but python applications are still available.\n",
      "usr7gvpjm2-algo-1-f1mir  | 1168 292\n",
      "usr7gvpjm2-algo-1-f1mir  | MAE: 23667.73912308639\n",
      "usr7gvpjm2-algo-1-f1mir  | MAPE: 0.13857664922126453\n",
      "usr7gvpjm2-algo-1-f1mir  | Fitting 5 folds for each of 3 candidates, totalling 15 fits\n",
      "usr7gvpjm2-algo-1-f1mir  | [CV] END ......................random_forest__max_depth=None; total time=   0.6s\n",
      "usr7gvpjm2-algo-1-f1mir  | [CV] END ......................random_forest__max_depth=None; total time=   0.6s\n",
      "usr7gvpjm2-algo-1-f1mir  | [CV] END ......................random_forest__max_depth=None; total time=   0.6s\n",
      "usr7gvpjm2-algo-1-f1mir  | [CV] END ......................random_forest__max_depth=None; total time=   0.6s\n",
      "usr7gvpjm2-algo-1-f1mir  | [CV] END ......................random_forest__max_depth=None; total time=   0.6s\n",
      "usr7gvpjm2-algo-1-f1mir  | [CV] END ........................random_forest__max_depth=10; total time=   0.5s\n",
      "usr7gvpjm2-algo-1-f1mir  | [CV] END ........................random_forest__max_depth=10; total time=   0.5s\n",
      "usr7gvpjm2-algo-1-f1mir  | [CV] END ........................random_forest__max_depth=10; total time=   0.5s\n",
      "usr7gvpjm2-algo-1-f1mir  | [CV] END ........................random_forest__max_depth=10; total time=   0.5s\n",
      "usr7gvpjm2-algo-1-f1mir  | [CV] END ........................random_forest__max_depth=10; total time=   0.5s\n",
      "usr7gvpjm2-algo-1-f1mir  | [CV] END ........................random_forest__max_depth=20; total time=   0.6s\n",
      "usr7gvpjm2-algo-1-f1mir  | [CV] END ........................random_forest__max_depth=20; total time=   0.6s\n",
      "usr7gvpjm2-algo-1-f1mir  | [CV] END ........................random_forest__max_depth=20; total time=   0.6s\n",
      "usr7gvpjm2-algo-1-f1mir  | [CV] END ........................random_forest__max_depth=20; total time=   0.6s\n",
      "usr7gvpjm2-algo-1-f1mir  | [CV] END ........................random_forest__max_depth=20; total time=   0.6s\n",
      "usr7gvpjm2-algo-1-f1mir  | 2024-11-22 13:27:41,857 sagemaker-training-toolkit INFO     Waiting for the process to finish and give a return code.\n",
      "usr7gvpjm2-algo-1-f1mir  | 2024-11-22 13:27:41,857 sagemaker-training-toolkit INFO     Done waiting for a return code. Received 0 from exiting process.\n",
      "usr7gvpjm2-algo-1-f1mir  | 2024-11-22 13:27:41,858 sagemaker_tensorflow_container.training WARNING  Your model will NOT be servable with SageMaker TensorFlow Serving container. The model artifact was not saved in the TensorFlow SavedModel directory structure:\n",
      "usr7gvpjm2-algo-1-f1mir  | https://www.tensorflow.org/guide/saved_model#structure_of_a_savedmodel_directory\n",
      "usr7gvpjm2-algo-1-f1mir  | 2024-11-22 13:27:41,858 sagemaker-training-toolkit INFO     Reporting training SUCCESS\n",
      "usr7gvpjm2-algo-1-f1mir exited with code 0\n",
      "Aborting on container exit...\n",
      " Container usr7gvpjm2-algo-1-f1mir  Stopping\n",
      " Container usr7gvpjm2-algo-1-f1mir  Stopped\n"
     ]
    },
    {
     "data": {
      "text/html": [
       "<pre style=\"white-space:pre;overflow-x:auto;line-height:normal;font-family:Menlo,'DejaVu Sans Mono',consolas,'Courier New',monospace\"><span style=\"color: #7fbfbf; text-decoration-color: #7fbfbf\">[11/22/24 13:27:51] </span><span style=\"color: #0069ff; text-decoration-color: #0069ff; font-weight: bold\">INFO    </span> ===== Job Complete =====                                                  <a href=\"file:///home/ec2-user/anaconda3/envs/python3/lib/python3.10/site-packages/sagemaker/local/image.py\" target=\"_blank\"><span style=\"color: #7f7f7f; text-decoration-color: #7f7f7f\">image.py</span></a><span style=\"color: #7f7f7f; text-decoration-color: #7f7f7f\">:</span><a href=\"file:///home/ec2-user/anaconda3/envs/python3/lib/python3.10/site-packages/sagemaker/local/image.py#325\" target=\"_blank\"><span style=\"color: #7f7f7f; text-decoration-color: #7f7f7f\">325</span></a>\n",
       "</pre>\n"
      ],
      "text/plain": [
       "\u001b[2;36m[11/22/24 13:27:51]\u001b[0m\u001b[2;36m \u001b[0m\u001b[1;38;2;0;105;255mINFO    \u001b[0m ===== Job Complete =====                                                  \u001b]8;id=701276;file:///home/ec2-user/anaconda3/envs/python3/lib/python3.10/site-packages/sagemaker/local/image.py\u001b\\\u001b[2mimage.py\u001b[0m\u001b]8;;\u001b\\\u001b[2m:\u001b[0m\u001b]8;id=190977;file:///home/ec2-user/anaconda3/envs/python3/lib/python3.10/site-packages/sagemaker/local/image.py#325\u001b\\\u001b[2m325\u001b[0m\u001b]8;;\u001b\\\n"
      ]
     },
     "metadata": {},
     "output_type": "display_data"
    },
    {
     "name": "stdout",
     "output_type": "stream",
     "text": [
      "##### ESTIMATOR FIT COMPLETED\n"
     ]
    }
   ],
   "source": [
    "from sagemaker import get_execution_role\n",
    "from sagemaker.estimator import Estimator\n",
    "import os\n",
    "\n",
    "role=get_execution_role()\n",
    "\n",
    "hyperparameters={'epochs': 1}\n",
    "\n",
    "estimator=Estimator(\n",
    "    image_uri='training-housing-container',\n",
    "    role=role,\n",
    "    instance_count=1,\n",
    "    instance_type='local',\n",
    "    hyperparameters=hyperparameters,\n",
    "    output_path='file://{}/data/output'.format(os.getcwd()),\n",
    ")\n",
    "\n",
    "print('##### ESTIMATOR FIT STARTED')\n",
    "print(os.getcwd())\n",
    "input_path = 'file://{}/data/input/'.format(os.getcwd())\n",
    "estimator.fit(input_path+\"train.csv\")\n",
    "print('##### ESTIMATOR FIT COMPLETED')"
   ]
  },
  {
   "cell_type": "markdown",
   "id": "5769caf8",
   "metadata": {},
   "source": [
    "### Spacchettamento output"
   ]
  },
  {
   "cell_type": "code",
   "execution_count": 28,
   "id": "788609ae",
   "metadata": {},
   "outputs": [],
   "source": [
    "!tar -xzf data/output/output.tar.gz"
   ]
  },
  {
   "cell_type": "code",
   "execution_count": null,
   "id": "ed0f0bcd",
   "metadata": {},
   "outputs": [],
   "source": [
    "!tar -xzf ./data/output/model.tar.gz"
   ]
  },
  {
   "cell_type": "markdown",
   "id": "3f8c67df",
   "metadata": {},
   "source": [
    "## Training in remoto (SageMaker)"
   ]
  },
  {
   "cell_type": "markdown",
   "id": "aed7d5ab",
   "metadata": {},
   "source": [
    "### Calcolo del full name (URI) da dare all'immagine"
   ]
  },
  {
   "cell_type": "code",
   "execution_count": null,
   "id": "964d4e4d",
   "metadata": {},
   "outputs": [],
   "source": [
    "%%sh\n",
    "# Specify an image name\n",
    "image_name=tensorflow-training\n",
    "echo \"image_name: ${image_name} ######################\"\n",
    "\n",
    "account=$(aws sts get-caller-identity --query Account --output text)\n",
    "echo \"account: ${account} ######################\"\n",
    "\n",
    "# Get the region defined in the current configuration (default to us-west-2 if none defined)\n",
    "region=$(aws configure get region)\n",
    "echo \"region: ${region} ######################\"\n",
    "\n",
    "fullname=\"${account}.dkr.ecr.${region}.amazonaws.com/${image_name}:2.12.0-cpu-py310-housing\"\n",
    "echo \"fullname: ${fullname} ######################\"\n",
    "\n",
    "aws ecr create-repository --repository-name \"${image_name}\"\n",
    "\n",
    "aws ecr describe-repositories --repository-names \"${image_name}\" > /dev/null 2>&1\n",
    "if [ $? -ne 0 ]\n",
    "then\n",
    "aws ecr create-repository --repository-name \"${image_name}\" > /dev/null\n",
    "fi"
   ]
  },
  {
   "cell_type": "code",
   "execution_count": null,
   "id": "022f3d17",
   "metadata": {},
   "outputs": [],
   "source": [
    "!aws ecr get-login-password --region us-east-1 | docker login --username AWS --password-stdin 891377019371.dkr.ecr.us-east-1.amazonaws.com/tensorflow-training:2.12.0-cpu-py310-housing"
   ]
  },
  {
   "cell_type": "code",
   "execution_count": null,
   "id": "a9a4289f",
   "metadata": {},
   "outputs": [],
   "source": [
    "!docker tag training-housing-container 891377019371.dkr.ecr.us-east-1.amazonaws.com/tensorflow-training:2.12.0-cpu-py310-housing"
   ]
  },
  {
   "cell_type": "code",
   "execution_count": null,
   "id": "4db19dec",
   "metadata": {},
   "outputs": [],
   "source": [
    "!docker push 891377019371.dkr.ecr.us-east-1.amazonaws.com/tensorflow-training:2.12.0-cpu-py310-housing"
   ]
  },
  {
   "cell_type": "markdown",
   "id": "19f98d9a",
   "metadata": {},
   "source": [
    "### Cloud S3\n",
    "A questo punto su Amazon S3 è necessario:\n",
    "- creare cartella di input (s3://itsarghisdata/data/input/)\n",
    "- creare cartella di output (s3://itsarghisdata/data/output)\n",
    "- caricare il file di input (train.csv)"
   ]
  },
  {
   "cell_type": "code",
   "execution_count": null,
   "id": "549949c7",
   "metadata": {},
   "outputs": [],
   "source": [
    "from sagemaker import get_execution_role\n",
    "from sagemaker.estimator import Estimator\n",
    "import os\n",
    "\n",
    "role=get_execution_role()\n",
    "\n",
    "hyperparameters={'epochs': 1}\n",
    "\n",
    "estimator=Estimator(\n",
    "    image_uri='891377019371.dkr.ecr.us-east-1.amazonaws.com/tensorflow-training:2.12.0-cpu-py310-housing',\n",
    "    role=role,\n",
    "    instance_count=1,\n",
    "    instance_type='ml.p2.xlarge',\n",
    "    hyperparameters=hyperparameters,\n",
    "    output_path='s3://itsarghisdata/data/output'.format(os.getcwd())\n",
    ")\n",
    "\n",
    "print('##### ESTIMATOR FIT STARTED')\n",
    "estimator.fit('s3://itsarghisdata/data/input/train.csv'.format(os.getcwd()))\n",
    "print('##### ESTIMATOR FIT COMPLETED')"
   ]
  },
  {
   "cell_type": "markdown",
   "id": "288f8943",
   "metadata": {},
   "source": [
    "Il training si sposta su SageMaker."
   ]
  }
 ],
 "metadata": {
  "kernelspec": {
   "display_name": "conda_python3",
   "language": "python",
   "name": "conda_python3"
  },
  "language_info": {
   "codemirror_mode": {
    "name": "ipython",
    "version": 3
   },
   "file_extension": ".py",
   "mimetype": "text/x-python",
   "name": "python",
   "nbconvert_exporter": "python",
   "pygments_lexer": "ipython3",
   "version": "3.10.15"
  }
 },
 "nbformat": 4,
 "nbformat_minor": 5
}
