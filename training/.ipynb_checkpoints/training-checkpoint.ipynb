{
 "cells": [
  {
   "cell_type": "markdown",
   "id": "a0832d12",
   "metadata": {},
   "source": [
    "# Training"
   ]
  },
  {
   "cell_type": "markdown",
   "id": "a9c22cee",
   "metadata": {},
   "source": [
    "### Importazione dell'immagine da ecr"
   ]
  },
  {
   "cell_type": "code",
   "execution_count": null,
   "id": "5ead9af7",
   "metadata": {},
   "outputs": [],
   "source": [
    "import scipy.sparse\n",
    "from sagemaker import image_uris\n",
    "image_uris.retrieve(framework='tensorflow',region='us-east-1',version='2.12.0',image_scope='training',instance_type='ml.c5.4xlarge')"
   ]
  },
  {
   "cell_type": "code",
   "execution_count": null,
   "id": "a3e9de4e",
   "metadata": {},
   "outputs": [],
   "source": [
    "!aws ecr get-login-password --region us-east-1 | docker login --username AWS --password-stdin  763104351884.dkr.ecr.us-east-1.amazonaws.com"
   ]
  },
  {
   "cell_type": "markdown",
   "id": "542f2b3e",
   "metadata": {},
   "source": [
    "### Build dell'immagine"
   ]
  },
  {
   "cell_type": "markdown",
   "id": "eac5ab75",
   "metadata": {},
   "source": [
    "Attraverso Dockerfile.train a partire dalla immagine di ECR"
   ]
  },
  {
   "cell_type": "code",
   "execution_count": null,
   "id": "1a070d9d",
   "metadata": {},
   "outputs": [],
   "source": [
    "!docker build -t training-housing-container -f Dockerfile.train ."
   ]
  },
  {
   "cell_type": "code",
   "execution_count": null,
   "id": "37c4ef0b",
   "metadata": {},
   "outputs": [],
   "source": [
    "!docker images"
   ]
  },
  {
   "cell_type": "markdown",
   "id": "9871af47",
   "metadata": {},
   "source": [
    "## Training in locale"
   ]
  },
  {
   "cell_type": "code",
   "execution_count": null,
   "id": "b0166fa5",
   "metadata": {},
   "outputs": [],
   "source": [
    "from sagemaker import get_execution_role\n",
    "from sagemaker.estimator import Estimator\n",
    "import os\n",
    "\n",
    "role=get_execution_role()\n",
    "\n",
    "hyperparameters={'epochs': 1}\n",
    "\n",
    "estimator=Estimator(\n",
    "    image_uri='training-housing-container',\n",
    "    role=role,\n",
    "    instance_count=1,\n",
    "    instance_type='local',\n",
    "    hyperparameters=hyperparameters,\n",
    "    output_path='file://{}/data/output'.format(os.getcwd()),\n",
    ")\n",
    "\n",
    "print('##### ESTIMATOR FIT STARTED')\n",
    "print(os.getcwd())\n",
    "input_path = 'file://{}/data/input/'.format(os.getcwd())\n",
    "estimator.fit(input_path+\"train.csv\")\n",
    "print('##### ESTIMATOR FIT COMPLETED')"
   ]
  },
  {
   "cell_type": "markdown",
   "id": "d0a07624",
   "metadata": {},
   "source": [
    "### Spacchettamento output"
   ]
  },
  {
   "cell_type": "code",
   "execution_count": null,
   "id": "d845a1b5",
   "metadata": {},
   "outputs": [],
   "source": [
    "!tar -xzf data/output/output.tar.gz"
   ]
  },
  {
   "cell_type": "code",
   "execution_count": null,
   "id": "bea672e8",
   "metadata": {},
   "outputs": [],
   "source": [
    "!tar -xzf ./data/output/model.tar.gz"
   ]
  },
  {
   "cell_type": "markdown",
   "id": "7ba24403",
   "metadata": {},
   "source": [
    "## Training in remoto (SageMaker)"
   ]
  },
  {
   "cell_type": "markdown",
   "id": "53a223a0",
   "metadata": {},
   "source": [
    "### Calcolo del full name (URI) da dare all'immagine"
   ]
  },
  {
   "cell_type": "code",
   "execution_count": null,
   "id": "088c9914",
   "metadata": {},
   "outputs": [],
   "source": [
    "%%sh\n",
    "# Specify an image name\n",
    "image_name=tensorflow-training\n",
    "echo \"image_name: ${image_name} ######################\"\n",
    "\n",
    "account=$(aws sts get-caller-identity --query Account --output text)\n",
    "echo \"account: ${account} ######################\"\n",
    "\n",
    "# Get the region defined in the current configuration (default to us-west-2 if none defined)\n",
    "region=$(aws configure get region)\n",
    "echo \"region: ${region} ######################\"\n",
    "\n",
    "fullname=\"${account}.dkr.ecr.${region}.amazonaws.com/${image_name}:2.12.0-cpu-py310-housing\"\n",
    "echo \"fullname: ${fullname} ######################\"\n",
    "\n",
    "aws ecr create-repository --repository-name \"${image_name}\"\n",
    "\n",
    "aws ecr describe-repositories --repository-names \"${image_name}\" > /dev/null 2>&1\n",
    "if [ $? -ne 0 ]\n",
    "then\n",
    "aws ecr create-repository --repository-name \"${image_name}\" > /dev/null\n",
    "fi"
   ]
  },
  {
   "cell_type": "code",
   "execution_count": null,
   "id": "54fdf291",
   "metadata": {},
   "outputs": [],
   "source": [
    "!aws ecr get-login-password --region us-east-1 | docker login --username AWS --password-stdin 891377019371.dkr.ecr.us-east-1.amazonaws.com/tensorflow-training:2.12.0-cpu-py310-housing"
   ]
  },
  {
   "cell_type": "code",
   "execution_count": null,
   "id": "969f4ee7",
   "metadata": {},
   "outputs": [],
   "source": [
    "!docker tag training-housing-container 891377019371.dkr.ecr.us-east-1.amazonaws.com/tensorflow-training:2.12.0-cpu-py310-housing "
   ]
  },
  {
   "cell_type": "code",
   "execution_count": null,
   "id": "f668630e",
   "metadata": {},
   "outputs": [],
   "source": [
    "!docker push 891377019371.dkr.ecr.us-east-1.amazonaws.com/tensorflow-training:2.12.0-cpu-py310-housing"
   ]
  },
  {
   "cell_type": "markdown",
   "id": "b8e05541",
   "metadata": {},
   "source": [
    "### Cloud S3\n",
    "A questo punto su Amazon S3 è necessario:\n",
    "- creare cartella di input (s3://itsarghisdata/data/input/)\n",
    "- creare cartella di output (s3://itsarghisdata/data/output)\n",
    "- caricare il file di input (train.csv)"
   ]
  },
  {
   "cell_type": "code",
   "execution_count": null,
   "id": "033a35fc",
   "metadata": {},
   "outputs": [
    {
     "name": "stdout",
     "output_type": "stream",
     "text": [
      "\n",
      "2024-11-21 22:28:28 Downloading - Downloading the training image..........."
     ]
    }
   ],
   "source": [
    "from sagemaker import get_execution_role\n",
    "from sagemaker.estimator import Estimator\n",
    "import os\n",
    "\n",
    "role=get_execution_role()\n",
    "\n",
    "hyperparameters={'epochs': 1}\n",
    "\n",
    "estimator=Estimator(\n",
    "    image_uri='891377019371.dkr.ecr.us-east-1.amazonaws.com/tensorflow-training:2.12.0-cpu-py310-housing',\n",
    "    role=role,\n",
    "    instance_count=1,\n",
    "    instance_type='ml.p2.xlarge',\n",
    "    hyperparameters=hyperparameters,\n",
    "    output_path='s3://itsarghisdata/data/output'.format(os.getcwd())\n",
    ")\n",
    "\n",
    "print('##### ESTIMATOR FIT STARTED')\n",
    "estimator.fit('s3://itsarghisdata/data/input/train.csv'.format(os.getcwd()))\n",
    "print('##### ESTIMATOR FIT COMPLETED')"
   ]
  },
  {
   "cell_type": "markdown",
   "id": "a15645f7",
   "metadata": {},
   "source": [
    "Il training si sposta su SageMaker."
   ]
  }
 ],
 "metadata": {
  "kernelspec": {
   "display_name": "conda_python3",
   "language": "python",
   "name": "conda_python3"
  },
  "language_info": {
   "codemirror_mode": {
    "name": "ipython",
    "version": 3
   },
   "file_extension": ".py",
   "mimetype": "text/x-python",
   "name": "python",
   "nbconvert_exporter": "python",
   "pygments_lexer": "ipython3",
   "version": "3.10.15"
  }
 },
 "nbformat": 4,
 "nbformat_minor": 5
}
